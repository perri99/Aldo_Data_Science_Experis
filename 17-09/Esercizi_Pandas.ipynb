{
 "cells": [
  {
   "cell_type": "markdown",
   "metadata": {},
   "source": [
    "# Ripasso iniziale"
   ]
  },
  {
   "cell_type": "code",
   "execution_count": null,
   "metadata": {},
   "outputs": [],
   "source": [
    "import pandas as pd\n",
    "\n",
    "datas = {'Nome':['Aldo', 'Giovanni', 'Giacomo'],\n",
    "         'Età':[10,18,28]}\n",
    "\n",
    "dataframe = pd.DataFrame(datas)\n",
    "print(dataframe)"
   ]
  },
  {
   "cell_type": "code",
   "execution_count": null,
   "metadata": {},
   "outputs": [],
   "source": [
    "df_olders = dataframe[dataframe['Età'] > 20]\n",
    "df_olders"
   ]
  },
  {
   "cell_type": "code",
   "execution_count": null,
   "metadata": {},
   "outputs": [],
   "source": [
    "dataframe['Maggiorenne'] = dataframe['Età'] >= 18\n",
    "dataframe"
   ]
  },
  {
   "cell_type": "code",
   "execution_count": null,
   "metadata": {},
   "outputs": [],
   "source": [
    "import numpy as np\n",
    "datas = {'Nome':['Aldo', 'Giovanni', 'Giacomo', 'Alessandro', 'Aldo'],\n",
    "         'Età':[10,18,28, np.nan, 10],\n",
    "         'Città':['Bologna', 'Bologna', 'Bologna', 'Bologna', 'Bologna'] }\n",
    "df = pd.DataFrame(datas)\n",
    "df.dropna()"
   ]
  },
  {
   "cell_type": "code",
   "execution_count": null,
   "metadata": {},
   "outputs": [],
   "source": [
    "df = df.drop_duplicates()\n",
    "df"
   ]
  },
  {
   "cell_type": "code",
   "execution_count": 1,
   "metadata": {},
   "outputs": [
    {
     "name": "stdout",
     "output_type": "stream",
     "text": [
      "1.5.1\n"
     ]
    }
   ],
   "source": [
    "import sklearn\n",
    "print(sklearn.__version__)"
   ]
  },
  {
   "cell_type": "markdown",
   "metadata": {},
   "source": [
    "# Esercizio 1"
   ]
  },
  {
   "cell_type": "markdown",
   "metadata": {},
   "source": [
    "Dataset: Utilizzare un dataset di esempio che include le seguenti informazioni su\n",
    "un gruppo di persone: Nome, Età, Città e Salario. \n",
    "\n",
    "\n",
    "\n",
    "Caricare i dati in un DataFrame autogenerandoli casualmente ."
   ]
  },
  {
   "cell_type": "code",
   "execution_count": 94,
   "metadata": {},
   "outputs": [],
   "source": [
    "import pandas as pd\n",
    "import numpy as np\n",
    "import random\n",
    "\n",
    "names = ['Giuseppe', 'Aldo', 'Alex', 'Marco', 'Mirko', 'Chiara', 'Sara', 'Elisa', 'Giuseppina']\n",
    "cities = ['Roma', 'Bologna', 'Trento', 'Milano', 'Cosenza', 'Taranto', 'Latina', 'Torino', 'Genova', np.nan]\n",
    "\n",
    "n = 250000 #numero di righe\n",
    "\n",
    "ages = np.random.randint(14,70, n)\n",
    "\n",
    "salaries = np.random.randint(3000, 3500, 200000) #solo 200000, il resto sarà nan\n",
    "null_salaries = np.array([np.nan for _ in range(n-200000)])\n",
    "\n",
    "data_names = [random.choice(names) for _ in range(n)]\n",
    "data_cities = [random.choice(cities) for _ in range(n)]\n",
    "\n",
    "\n",
    "salaries = np.concatenate([salaries, null_salaries])"
   ]
  },
  {
   "cell_type": "code",
   "execution_count": 95,
   "metadata": {},
   "outputs": [],
   "source": [
    "datas = {'Nomi': data_names,\n",
    "         'Città': data_cities,\n",
    "         'Età': ages,\n",
    "         'Salario': salaries}\n",
    "\n",
    "df = pd.DataFrame(datas)\n"
   ]
  },
  {
   "cell_type": "markdown",
   "metadata": {},
   "source": [
    "Visualizzare le prime e le ultime cinque righe del DataFrame."
   ]
  },
  {
   "cell_type": "code",
   "execution_count": null,
   "metadata": {},
   "outputs": [],
   "source": [
    "df.head()"
   ]
  },
  {
   "cell_type": "code",
   "execution_count": null,
   "metadata": {},
   "outputs": [],
   "source": [
    "df.tail()"
   ]
  },
  {
   "cell_type": "markdown",
   "metadata": {},
   "source": [
    "Visualizzare il tipo di dati di ciascuna colonna."
   ]
  },
  {
   "cell_type": "code",
   "execution_count": null,
   "metadata": {},
   "outputs": [],
   "source": [
    "df.dtypes"
   ]
  },
  {
   "cell_type": "markdown",
   "metadata": {},
   "source": [
    "Calcolare statistiche descrittive di base per le colonne numeriche (media,\n",
    "mediana, deviazione standard)"
   ]
  },
  {
   "cell_type": "code",
   "execution_count": null,
   "metadata": {},
   "outputs": [],
   "source": [
    "df.describe()"
   ]
  },
  {
   "cell_type": "code",
   "execution_count": null,
   "metadata": {},
   "outputs": [],
   "source": [
    "mediana_età = df['Età'].median()\n",
    "mediana_salario = df['Salario'].median()\n",
    "print('Mediana età:', mediana_età)\n",
    "print('Mediana salario:', mediana_salario)"
   ]
  },
  {
   "cell_type": "markdown",
   "metadata": {},
   "source": [
    "Identificare e rimuovere eventuali duplicati"
   ]
  },
  {
   "cell_type": "code",
   "execution_count": null,
   "metadata": {},
   "outputs": [],
   "source": [
    "df.duplicated()"
   ]
  },
  {
   "cell_type": "code",
   "execution_count": null,
   "metadata": {},
   "outputs": [],
   "source": [
    "df.drop_duplicates()\n",
    "df.tail()"
   ]
  },
  {
   "cell_type": "markdown",
   "metadata": {},
   "source": [
    "Gestire i valori mancanti sostituendoli con la mediana della rispettiva\n",
    "colonna."
   ]
  },
  {
   "cell_type": "code",
   "execution_count": null,
   "metadata": {},
   "outputs": [],
   "source": [
    "df.isnull()"
   ]
  },
  {
   "cell_type": "code",
   "execution_count": null,
   "metadata": {},
   "outputs": [],
   "source": [
    "df.isnull().sum()"
   ]
  },
  {
   "cell_type": "code",
   "execution_count": null,
   "metadata": {},
   "outputs": [],
   "source": [
    "df['Città'].mode()[0]"
   ]
  },
  {
   "cell_type": "code",
   "execution_count": null,
   "metadata": {},
   "outputs": [],
   "source": [
    "df['Salario'].fillna(df['Salario'].median(), inplace=True)\n",
    "df['Città'].fillna(df['Città'].mode()[0], inplace = True)"
   ]
  },
  {
   "cell_type": "code",
   "execution_count": null,
   "metadata": {},
   "outputs": [],
   "source": [
    "df.isnull().sum()"
   ]
  },
  {
   "cell_type": "code",
   "execution_count": null,
   "metadata": {},
   "outputs": [],
   "source": [
    "df.tail()"
   ]
  },
  {
   "cell_type": "markdown",
   "metadata": {},
   "source": [
    "Aggiungere una nuova colonna chiamata \"Categoria Età\" che classifica le\n",
    "persone come \"Giovane\", \"Adulto\" o \"Senior\" basandosi sull'età (es., 0-18\n",
    "anni: Giovane, 19-65 anni: Adulto, oltre 65 anni: Senior)."
   ]
  },
  {
   "cell_type": "code",
   "execution_count": 82,
   "metadata": {},
   "outputs": [],
   "source": [
    "def categoria_anni(età):\n",
    "    if età < 18:\n",
    "        return 'Giovane'\n",
    "    elif età < 65:\n",
    "        return 'Adulto'\n",
    "    else:\n",
    "        return 'Senior'"
   ]
  },
  {
   "cell_type": "code",
   "execution_count": null,
   "metadata": {},
   "outputs": [],
   "source": [
    "df['Categoria Età'] = df['Età'].apply(categoria_anni)\n",
    "df.head()"
   ]
  },
  {
   "cell_type": "markdown",
   "metadata": {},
   "source": [
    "Salvare il DataFrame pulito in un nuovo file CSV.\n"
   ]
  },
  {
   "cell_type": "code",
   "execution_count": 108,
   "metadata": {},
   "outputs": [],
   "source": [
    "df.to_csv('salari.csv', index = False)"
   ]
  }
 ],
 "metadata": {
  "kernelspec": {
   "display_name": "Python 3",
   "language": "python",
   "name": "python3"
  },
  "language_info": {
   "codemirror_mode": {
    "name": "ipython",
    "version": 3
   },
   "file_extension": ".py",
   "mimetype": "text/x-python",
   "name": "python",
   "nbconvert_exporter": "python",
   "pygments_lexer": "ipython3",
   "version": "3.11.9"
  }
 },
 "nbformat": 4,
 "nbformat_minor": 2
}
