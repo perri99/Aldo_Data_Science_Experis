{
 "cells": [
  {
   "cell_type": "code",
   "execution_count": 1,
   "metadata": {},
   "outputs": [],
   "source": [
    "import numpy as np"
   ]
  },
  {
   "cell_type": "code",
   "execution_count": 2,
   "metadata": {},
   "outputs": [
    {
     "name": "stdout",
     "output_type": "stream",
     "text": [
      "[10 11 12 13 14 15 16 17 18 19 20 21 22 23 24 25 26 27 28 29 30 31 32 33\n",
      " 34 35 36 37 38 39 40 41 42 43 44 45 46 47 48 49]\n",
      "int64\n",
      "float64\n",
      "(40,)\n"
     ]
    }
   ],
   "source": [
    "#Esercizio1\n",
    "array = np.arange(10,50)\n",
    "print(array)\n",
    "print(array.dtype)\n",
    "array = array.astype(float)\n",
    "print(array.dtype)\n",
    "print(array.shape)"
   ]
  },
  {
   "cell_type": "markdown",
   "metadata": {},
   "source": [
    "# Esercizio2"
   ]
  },
  {
   "cell_type": "code",
   "execution_count": 4,
   "metadata": {},
   "outputs": [
    {
     "name": "stdout",
     "output_type": "stream",
     "text": [
      "[20 12 20 24 42 46 12 35 22 49 44 46 37 14 34 23 47 44 41 17]\n"
     ]
    }
   ],
   "source": [
    "rand_array = np.random.randint(10,51,20)\n",
    "print(rand_array)"
   ]
  },
  {
   "cell_type": "code",
   "execution_count": 6,
   "metadata": {},
   "outputs": [
    {
     "name": "stdout",
     "output_type": "stream",
     "text": [
      "[20 12 20 24 42 46 12 35 22 49]\n"
     ]
    }
   ],
   "source": [
    "primi_10 = rand_array[:10]\n",
    "print(primi_10)"
   ]
  },
  {
   "cell_type": "code",
   "execution_count": 8,
   "metadata": {},
   "outputs": [
    {
     "name": "stdout",
     "output_type": "stream",
     "text": [
      "[23 47 44 41 17]\n"
     ]
    }
   ],
   "source": [
    "ultimi_5 = rand_array[len(rand_array)-5:len(rand_array)]\n",
    "print(ultimi_5)"
   ]
  },
  {
   "cell_type": "code",
   "execution_count": 10,
   "metadata": {},
   "outputs": [
    {
     "name": "stdout",
     "output_type": "stream",
     "text": [
      "[46 12 35 22 49 44 46 37 14 34]\n"
     ]
    }
   ],
   "source": [
    "elementi_5_15 = rand_array[5:15]\n",
    "print(elementi_5_15)"
   ]
  },
  {
   "cell_type": "code",
   "execution_count": 15,
   "metadata": {},
   "outputs": [
    {
     "name": "stdout",
     "output_type": "stream",
     "text": [
      "[20 46 22 46 34 44]\n"
     ]
    }
   ],
   "source": [
    "print(rand_array[2::3])"
   ]
  },
  {
   "cell_type": "code",
   "execution_count": 20,
   "metadata": {},
   "outputs": [
    {
     "name": "stdout",
     "output_type": "stream",
     "text": [
      "[]\n"
     ]
    }
   ],
   "source": []
  }
 ],
 "metadata": {
  "kernelspec": {
   "display_name": "Python 3",
   "language": "python",
   "name": "python3"
  },
  "language_info": {
   "codemirror_mode": {
    "name": "ipython",
    "version": 3
   },
   "file_extension": ".py",
   "mimetype": "text/x-python",
   "name": "python",
   "nbconvert_exporter": "python",
   "pygments_lexer": "ipython3",
   "version": "3.11.9"
  }
 },
 "nbformat": 4,
 "nbformat_minor": 2
}
