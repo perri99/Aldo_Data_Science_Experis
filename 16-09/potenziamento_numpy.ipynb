{
 "cells": [
  {
   "cell_type": "code",
   "execution_count": 1,
   "metadata": {},
   "outputs": [],
   "source": [
    "import numpy as np"
   ]
  },
  {
   "cell_type": "code",
   "execution_count": 2,
   "metadata": {},
   "outputs": [
    {
     "name": "stdout",
     "output_type": "stream",
     "text": [
      "[10 11 12 13 14 15 16 17 18 19 20 21 22 23 24 25 26 27 28 29 30 31 32 33\n",
      " 34 35 36 37 38 39 40 41 42 43 44 45 46 47 48 49]\n",
      "int64\n",
      "float64\n",
      "(40,)\n"
     ]
    }
   ],
   "source": [
    "#Esercizio1\n",
    "array = np.arange(10,50)\n",
    "print(array)\n",
    "print(array.dtype)\n",
    "array = array.astype(float)\n",
    "print(array.dtype)\n",
    "print(array.shape)"
   ]
  },
  {
   "cell_type": "markdown",
   "metadata": {},
   "source": [
    "# Esercizio2"
   ]
  },
  {
   "cell_type": "code",
   "execution_count": 4,
   "metadata": {},
   "outputs": [
    {
     "name": "stdout",
     "output_type": "stream",
     "text": [
      "[20 12 20 24 42 46 12 35 22 49 44 46 37 14 34 23 47 44 41 17]\n"
     ]
    }
   ],
   "source": [
    "rand_array = np.random.randint(10,51,20)\n",
    "print(rand_array)"
   ]
  },
  {
   "cell_type": "code",
   "execution_count": 6,
   "metadata": {},
   "outputs": [
    {
     "name": "stdout",
     "output_type": "stream",
     "text": [
      "[20 12 20 24 42 46 12 35 22 49]\n"
     ]
    }
   ],
   "source": [
    "primi_10 = rand_array[:10]\n",
    "print(primi_10)"
   ]
  },
  {
   "cell_type": "code",
   "execution_count": 25,
   "metadata": {},
   "outputs": [
    {
     "name": "stdout",
     "output_type": "stream",
     "text": [
      "[23 47 44 41 17]\n",
      "[23 47 44 41 17]\n"
     ]
    }
   ],
   "source": [
    "ultimi_5 = rand_array[len(rand_array)-5:len(rand_array)]\n",
    "print(ultimi_5)\n",
    "\n",
    "ultimi_5 = rand_array[-5::]\n",
    "print(ultimi_5)"
   ]
  },
  {
   "cell_type": "code",
   "execution_count": 10,
   "metadata": {},
   "outputs": [
    {
     "name": "stdout",
     "output_type": "stream",
     "text": [
      "[46 12 35 22 49 44 46 37 14 34]\n"
     ]
    }
   ],
   "source": [
    "elementi_5_15 = rand_array[5:15]\n",
    "print(elementi_5_15)"
   ]
  },
  {
   "cell_type": "code",
   "execution_count": 29,
   "metadata": {},
   "outputs": [
    {
     "name": "stdout",
     "output_type": "stream",
     "text": [
      "[20 46 22 46 34 44]\n",
      "[20 46 22 46 34 44]\n"
     ]
    }
   ],
   "source": [
    "print(rand_array[2::3])\n",
    "\n",
    "indices = [i for i in range(2, len(rand_array), 3)]\n",
    "print(rand_array[indices])"
   ]
  },
  {
   "cell_type": "markdown",
   "metadata": {},
   "source": [
    "# Esercizio 3"
   ]
  },
  {
   "cell_type": "code",
   "execution_count": 30,
   "metadata": {},
   "outputs": [
    {
     "data": {
      "text/plain": [
       "array([0.        , 0.09090909, 0.18181818, 0.27272727, 0.36363636,\n",
       "       0.45454545, 0.54545455, 0.63636364, 0.72727273, 0.81818182,\n",
       "       0.90909091, 1.        ])"
      ]
     },
     "execution_count": 30,
     "metadata": {},
     "output_type": "execute_result"
    }
   ],
   "source": [
    "array = np.linspace(0,1,12)\n",
    "array"
   ]
  },
  {
   "cell_type": "code",
   "execution_count": 32,
   "metadata": {},
   "outputs": [
    {
     "data": {
      "text/plain": [
       "array([[0.        , 0.09090909, 0.18181818, 0.27272727],\n",
       "       [0.36363636, 0.45454545, 0.54545455, 0.63636364],\n",
       "       [0.72727273, 0.81818182, 0.90909091, 1.        ]])"
      ]
     },
     "execution_count": 32,
     "metadata": {},
     "output_type": "execute_result"
    }
   ],
   "source": [
    "matrix1 = array.reshape(3,4)\n",
    "matrix1"
   ]
  },
  {
   "cell_type": "code",
   "execution_count": 39,
   "metadata": {},
   "outputs": [
    {
     "data": {
      "text/plain": [
       "array([[0.66603431, 0.61085728, 0.40370209, 0.71228058],\n",
       "       [0.56885563, 0.91596041, 0.56434618, 0.33161959],\n",
       "       [0.15898712, 0.84199496, 0.50182304, 0.16722365]])"
      ]
     },
     "execution_count": 39,
     "metadata": {},
     "output_type": "execute_result"
    }
   ],
   "source": [
    "matrix2 = np.random.random((3,4))\n",
    "\n",
    "matrix2"
   ]
  },
  {
   "cell_type": "code",
   "execution_count": 41,
   "metadata": {},
   "outputs": [
    {
     "name": "stdout",
     "output_type": "stream",
     "text": [
      "Somma matrice1: 6.0 6.0\n",
      "Somma matrice 2: 6.443684827234405\n"
     ]
    }
   ],
   "source": [
    "print('Somma matrice1:', matrix1.sum())\n",
    "print('Somma matrice 2:', matrix2.sum())"
   ]
  },
  {
   "cell_type": "markdown",
   "metadata": {},
   "source": [
    "# Esercizio 4"
   ]
  },
  {
   "cell_type": "code",
   "execution_count": 42,
   "metadata": {},
   "outputs": [
    {
     "data": {
      "text/plain": [
       "array([ 0.        ,  0.20408163,  0.40816327,  0.6122449 ,  0.81632653,\n",
       "        1.02040816,  1.2244898 ,  1.42857143,  1.63265306,  1.83673469,\n",
       "        2.04081633,  2.24489796,  2.44897959,  2.65306122,  2.85714286,\n",
       "        3.06122449,  3.26530612,  3.46938776,  3.67346939,  3.87755102,\n",
       "        4.08163265,  4.28571429,  4.48979592,  4.69387755,  4.89795918,\n",
       "        5.10204082,  5.30612245,  5.51020408,  5.71428571,  5.91836735,\n",
       "        6.12244898,  6.32653061,  6.53061224,  6.73469388,  6.93877551,\n",
       "        7.14285714,  7.34693878,  7.55102041,  7.75510204,  7.95918367,\n",
       "        8.16326531,  8.36734694,  8.57142857,  8.7755102 ,  8.97959184,\n",
       "        9.18367347,  9.3877551 ,  9.59183673,  9.79591837, 10.        ])"
      ]
     },
     "execution_count": 42,
     "metadata": {},
     "output_type": "execute_result"
    }
   ],
   "source": [
    "array = np.linspace(0,10,50)\n",
    "array"
   ]
  },
  {
   "cell_type": "code",
   "execution_count": 43,
   "metadata": {},
   "outputs": [
    {
     "data": {
      "text/plain": [
       "array([0.9851894 , 0.50985025, 0.85444452, 0.4367782 , 0.56822378,\n",
       "       0.19321173, 0.92080778, 0.36862247, 0.00335421, 0.08551434,\n",
       "       0.63451299, 0.71616666, 0.85190457, 0.53654385, 0.22462798,\n",
       "       0.92349437, 0.08101452, 0.49824643, 0.02683997, 0.4937795 ,\n",
       "       0.25969626, 0.65552419, 0.70798655, 0.72514753, 0.17351639,\n",
       "       0.1139695 , 0.80204103, 0.77291023, 0.17076885, 0.65799477,\n",
       "       0.83645493, 0.88711745, 0.66488841, 0.49479489, 0.38358045,\n",
       "       0.33863205, 0.98225566, 0.88382287, 0.82193639, 0.4131389 ,\n",
       "       0.83321687, 0.40053928, 0.71517066, 0.77715375, 0.92092732,\n",
       "       0.95606512, 0.02321275, 0.47722284, 0.29201555, 0.61441756])"
      ]
     },
     "execution_count": 43,
     "metadata": {},
     "output_type": "execute_result"
    }
   ],
   "source": [
    "rand_array = np.random.random(50)\n",
    "rand_array"
   ]
  },
  {
   "cell_type": "code",
   "execution_count": 44,
   "metadata": {},
   "outputs": [
    {
     "data": {
      "text/plain": [
       "array([ 0.9851894 ,  0.71393188,  1.26260778,  1.0490231 ,  1.38455031,\n",
       "        1.21361989,  2.14529757,  1.7971939 ,  1.63600727,  1.92224903,\n",
       "        2.67532932,  2.96106462,  3.30088417,  3.18960507,  3.08177084,\n",
       "        3.98471886,  3.34632065,  3.96763419,  3.70030936,  4.37133052,\n",
       "        4.34132892,  4.94123848,  5.19778246,  5.41902508,  5.07147558,\n",
       "        5.21601031,  6.10816348,  6.28311431,  5.88505456,  6.57636212,\n",
       "        6.95890391,  7.21364807,  7.19550066,  7.22948877,  7.32235596,\n",
       "        7.48148919,  8.32919443,  8.43484328,  8.57703843,  8.37232257,\n",
       "        8.99648217,  8.76788621,  9.28659923,  9.55266395,  9.90051916,\n",
       "       10.13973859,  9.41096785, 10.06905958, 10.08793392, 10.61441756])"
      ]
     },
     "execution_count": 44,
     "metadata": {},
     "output_type": "execute_result"
    }
   ],
   "source": [
    "sum_array = np.add(array, rand_array)\n",
    "sum_array"
   ]
  },
  {
   "cell_type": "code",
   "execution_count": 45,
   "metadata": {},
   "outputs": [
    {
     "data": {
      "text/plain": [
       "np.float64(277.66924648986355)"
      ]
     },
     "execution_count": 45,
     "metadata": {},
     "output_type": "execute_result"
    }
   ],
   "source": [
    "total_sum = sum_array.sum()\n",
    "total_sum"
   ]
  },
  {
   "cell_type": "code",
   "execution_count": 50,
   "metadata": {},
   "outputs": [
    {
     "data": {
      "text/plain": [
       "np.float64(219.69804138729367)"
      ]
     },
     "execution_count": 50,
     "metadata": {},
     "output_type": "execute_result"
    }
   ],
   "source": [
    "sum_g5 = np.array([num for num in sum_array if num > 5]).sum()\n",
    "print(sum_g5)\n",
    "sum2 = np.sum(sum_array, where = sum_array > 5 )\n",
    "print(sum2)\n"
   ]
  }
 ],
 "metadata": {
  "kernelspec": {
   "display_name": "Python 3",
   "language": "python",
   "name": "python3"
  },
  "language_info": {
   "codemirror_mode": {
    "name": "ipython",
    "version": 3
   },
   "file_extension": ".py",
   "mimetype": "text/x-python",
   "name": "python",
   "nbconvert_exporter": "python",
   "pygments_lexer": "ipython3",
   "version": "3.11.9"
  }
 },
 "nbformat": 4,
 "nbformat_minor": 2
}
