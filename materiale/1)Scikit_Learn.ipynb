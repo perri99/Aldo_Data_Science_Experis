{
  "cells": [
    {
      "cell_type": "markdown",
      "metadata": {
        "id": "zwrbIsfp6f1s"
      },
      "source": [
        "# Presentazione di Scikit-Learn"
      ]
    },
    {
      "cell_type": "markdown",
      "metadata": {
        "deletable": true,
        "editable": true,
        "id": "wUOhvoiu6f1v"
      },
      "source": [
        "Esistono diverse librerie Python che forniscono solide implementazioni di una gamma di algoritmi di apprendimento automatico. Uno dei più conosciuti è Scikit-Learn , un pacchetto che fornisce versioni efficienti di un gran numero di algoritmi comuni. Scikit-Learn è caratterizzato da un'API pulita, uniforme e snella, oltre che da una documentazione online molto utile e completa. Un vantaggio di questa uniformità è che una volta compresi l'uso di base e la sintassi di Scikit-Learn per un tipo di modello, passare a un nuovo modello o algoritmo è molto semplice.\n",
        "\n",
        "Questa sezione fornisce una panoramica dell'API Scikit-Learn; una solida comprensione di questi elementi API costituirà la base per comprendere la discussione pratica più approfondita sugli algoritmi e sugli approcci di machine learning nelle lezioni successive."
      ]
    },
    {
      "cell_type": "markdown",
      "metadata": {
        "deletable": true,
        "editable": true,
        "id": "PrqFcBWh6f1w"
      },
      "source": [
        "## Rappresentazione dei dati in Scikit-Learn"
      ]
    },
    {
      "cell_type": "markdown",
      "metadata": {
        "deletable": true,
        "editable": true,
        "id": "DOWphql-6f1w"
      },
      "source": [
        "L'apprendimento automatico si concentra sulla creazione di modelli a partire dai dati: per questo motivo inizieremo discutendo come i dati possono essere rappresentati per essere compresi dal computer. Il modo migliore per pensare ai dati all'interno di Scikit-Learn è in termini di tabelle di dati.\n",
        "\n",
        "### Dati come tabelle\n",
        "Una tabella di base è una griglia bidimensionale di dati, in cui le righe rappresentano i singoli elementi del set di dati e le colonne rappresentano le quantità relative a ciascuno di questi elementi. Ad esempio, se consideriamo il set di dati sui fiori Iris , notoriamente analizzato da Ronald Fisher nel 1936. Possiamo scaricare questo set di dati sotto forma di Pandas DataFrame utilizzando la libreria Seaborn :"
      ]
    },
    {
      "cell_type": "code",
      "execution_count": null,
      "metadata": {
        "deletable": true,
        "editable": true,
        "id": "D48rlRWC6f1x",
        "jupyter": {
          "outputs_hidden": false
        },
        "outputId": "9fac96e7-82c9-4f24-ada1-97db7fe0542e"
      },
      "outputs": [],
      "source": [
        "import seaborn as sns\n",
        "iris = sns.load_dataset('iris')\n",
        "iris.head()"
      ]
    },
    {
      "cell_type": "markdown",
      "metadata": {
        "deletable": true,
        "editable": true,
        "id": "wqVj5jqx6f1y"
      },
      "source": [
        "Qui ogni riga di dati si riferisce a un singolo fiore osservato e il numero di righe è il numero totale di fiori nel set di dati. In generale, ci riferiremo alle righe della matrice come campioni e al numero di righe come `n_samples`.\n",
        "\n",
        "Allo stesso modo, ciascuna colonna di dati fa riferimento a una particolare informazione quantitativa che descrive ciascun campione. In generale, ci riferiremo alle colonne della matrice come caratteristiche e al numero di colonne come `n_features`."
      ]
    },
    {
      "cell_type": "markdown",
      "metadata": {
        "deletable": true,
        "editable": true,
        "id": "Twkj865z6f1y"
      },
      "source": [
        "### Caratteristiche delle Matrici\n",
        "\n",
        "Questo layout della tabella rende chiaro che le informazioni possono essere pensate come un array o matrice numerica bidimensionale, che chiameremo matrice delle caratteristiche . Per convenzione, questa matrice delle caratteristiche viene spesso memorizzata in una variabile denominata X. Si presuppone che la matrice delle caratteristiche sia bidimensionale, con forma [n_samples, n_features], ed è spesso contenuta in un array NumPy o Pandas DataFrame, sebbene alcuni modelli Scikit-Learn accettino anche matrici sparse SciPy.\n",
        "\n",
        "I campioni (cioè le righe) si riferiscono sempre ai singoli oggetti descritti dal dataset. Ad esempio, il campione potrebbe essere un fiore, una persona, un documento, un'immagine, un file audio, un video, un oggetto astronomico o qualsiasi altra cosa che puoi descrivere con una serie di misurazioni quantitative.\n",
        "\n",
        "Le caratteristiche (cioè le colonne) si riferiscono sempre alle distinte osservazioni che descrivono ciascun campione in modo quantitativo. Le caratteristiche hanno generalmente un valore reale, ma in alcuni casi possono avere un valore booleano o discreto."
      ]
    },
    {
      "cell_type": "markdown",
      "metadata": {
        "deletable": true,
        "editable": true,
        "id": "om5qx25S6f1z"
      },
      "source": [
        "### L'Array Target\n",
        "\n",
        "Oltre alla matrice delle caratteristiche X, generalmente lavoriamo anche con un'etichetta o un array di destinazione , che per convenzione chiameremo y. L'array di destinazione è solitamente unidimensionale, con length n_samples, ed è generalmente contenuto in un array NumPy o Pandas Series. L'array di destinazione può avere valori numerici continui o classi/etichette discrete. Sebbene alcuni stimatori Scikit-Learn gestiscano più valori target sotto forma di un array target bidimensionale [n_samples, n_targets], lavoreremo principalmente con il caso comune di un array target unidimensionale.\n",
        "\n",
        "Spesso un punto di confusione è il modo in cui l'array di destinazione differisce dalle altre colonne delle funzionalità. La caratteristica distintiva dell'array target è che solitamente è la quantità che vogliamo prevedere dai dati : in termini statistici, è la variabile dipendente. Ad esempio, nei dati precedenti potremmo voler costruire un modello in grado di prevedere la specie di fiore in base alle altre misurazioni; in questo caso, la colonna species verrebbe considerata l'array di destinazione.\n",
        "\n",
        "Tenendo presente questo array di target, possiamo utilizzare Seaborn per visualizzare comodamente i dati:"
      ]
    },
    {
      "cell_type": "code",
      "execution_count": null,
      "metadata": {
        "deletable": true,
        "editable": true,
        "id": "qpFLb8O86f1z",
        "jupyter": {
          "outputs_hidden": false
        },
        "outputId": "57fb67e5-38c0-4520-f78a-85637c2d8710"
      },
      "outputs": [],
      "source": [
        "%matplotlib inline\n",
        "import seaborn as sns\n",
        "sns.pairplot(iris, hue='species', height=1.5)"
      ]
    },
    {
      "cell_type": "markdown",
      "metadata": {
        "deletable": true,
        "editable": true,
        "id": "U1dDOEzo6f1z"
      },
      "source": [
        "Per l'utilizzo in Scikit-Learn, estrarremo la matrice delle caratteristiche e l'array di destinazione dal file DataFrame, cosa che possiamo fare utilizzando alcune delle operazioni DataFrame di Pandas:"
      ]
    },
    {
      "cell_type": "code",
      "execution_count": null,
      "metadata": {
        "deletable": true,
        "editable": true,
        "id": "LXaNsqcH6f1z",
        "jupyter": {
          "outputs_hidden": false
        },
        "outputId": "e0795ae0-e0db-49cd-eb19-da442eff5a1f"
      },
      "outputs": [],
      "source": [
        "X_iris = iris.drop('species', axis=1)\n",
        "X_iris.shape"
      ]
    },
    {
      "cell_type": "code",
      "execution_count": null,
      "metadata": {
        "deletable": true,
        "editable": true,
        "id": "1sf3DPpF6f10",
        "jupyter": {
          "outputs_hidden": false
        },
        "outputId": "e13c28fb-4a97-4c51-a731-3955ca3860d9"
      },
      "outputs": [],
      "source": [
        "y_iris = iris['species']\n",
        "y_iris.shape"
      ]
    },
    {
      "cell_type": "markdown",
      "metadata": {
        "deletable": true,
        "editable": true,
        "id": "0rsNKL8y6f10"
      },
      "source": [
        "Per riassumere, la disposizione prevista delle caratteristiche e dei valori target è quella del seguente diagramma:"
      ]
    },
    {
      "cell_type": "markdown",
      "metadata": {
        "deletable": true,
        "editable": true,
        "id": "r1Dmxd4j6f10"
      },
      "source": [
        "![](dati/img/feature%20matrix%20scikit.png)"
      ]
    },
    {
      "cell_type": "markdown",
      "metadata": {
        "deletable": true,
        "editable": true,
        "id": "yRzw2JAi6f10"
      },
      "source": [
        "Con questi dati opportunamente formattati, possiamo passare a considerare l' API dello stimatore di Scikit-Learn:"
      ]
    },
    {
      "cell_type": "markdown",
      "metadata": {
        "deletable": true,
        "editable": true,
        "id": "qUN0oT0Q6f10"
      },
      "source": [
        "## The Estimator API"
      ]
    },
    {
      "cell_type": "markdown",
      "metadata": {
        "deletable": true,
        "editable": true,
        "id": "s1WDsz7r6f10"
      },
      "source": [
        "L'API Scikit-Learn è progettata tenendo presenti i seguenti principi guida, come delineato nel documento sull'API Scikit-Learn :\n",
        "\n",
        "- Coerenza : tutti gli oggetti condividono un'interfaccia comune tratta da un insieme limitato di metodi, con documentazione coerente.\n",
        "\n",
        "- Ispezione : tutti i valori dei parametri specificati vengono esposti come attributi pubblici.\n",
        "\n",
        "- Gerarchia di oggetti limitata : solo gli algoritmi sono rappresentati da classi Python; i set di dati sono rappresentati in formati standard (array NumPy, Pandas DataFrame, matrici sparse SciPy) e i nomi dei parametri utilizzano stringhe Python standard.\n",
        "\n",
        "- Composizione : molte attività di machine learning possono essere espresse come sequenze di algoritmi più fondamentali e Scikit-Learn ne fa uso ove possibile.\n",
        "\n",
        "- Impostazioni predefinite ragionevoli : quando i modelli richiedono parametri specificati dall'utente, la libreria definisce un valore predefinito appropriato.\n",
        "\n",
        "In pratica, questi principi rendono Scikit-Learn molto facile da usare, una volta compresi i principi di base. Ogni algoritmo di machine learning in Scikit-Learn viene implementato tramite l'API Estimator, che fornisce un'interfaccia coerente per un'ampia gamma di applicazioni di machine learning."
      ]
    },
    {
      "cell_type": "markdown",
      "metadata": {
        "deletable": true,
        "editable": true,
        "id": "3aouPV8_6f10"
      },
      "source": [
        "### Basi dell'API\n",
        "\n",
        "Più comunemente, i passaggi per utilizzare l'API dello stimatore Scikit-Learn sono i seguenti:\n",
        "\n",
        "- Scegliere una classe di modello importando la classe di stima appropriata da Scikit-Learn.\n",
        "- Scegliere gli iperparametri del modello creando un'istanza di questa classe con i valori desiderati.\n",
        "- Disporre i dati in una matrice delle caratteristiche e in un vettore target seguendo la discussione sopra.\n",
        "- Adattare il modello ai dati chiamando il fit() metodo dell'istanza del modello.\n",
        "- Applicare il modello a nuovi dati:\n",
        "   - Per l'apprendimento supervisionato, spesso prevediamo etichette per dati sconosciuti utilizzando il predict() metodo.\n",
        "   - Per l'apprendimento non supervisionato, spesso trasformiamo o deduciamo le proprietà dei dati utilizzando il metodo transform() o predict()."
      ]
    },
    {
      "cell_type": "markdown",
      "metadata": {
        "deletable": true,
        "editable": true,
        "id": "T4r5VcvI6f10"
      },
      "source": [
        "### Esempio di apprendimento supervisionato: regressione lineare semplice\n",
        "\n",
        "Come esempio di questo processo, consideriamo una semplice regressione lineare, ovvero il caso comune di adattare una linea a X. Utilizzeremo i seguenti semplici dati per il nostro esempio di regressione:"
      ]
    },
    {
      "cell_type": "code",
      "execution_count": null,
      "metadata": {
        "deletable": true,
        "editable": true,
        "id": "qV_Bkzsk6f11",
        "jupyter": {
          "outputs_hidden": false
        },
        "outputId": "3ec9d8bf-55b3-4569-dad4-fae8abf2adad"
      },
      "outputs": [],
      "source": [
        "import matplotlib.pyplot as plt\n",
        "import numpy as np\n",
        "\n",
        "rng = np.random.RandomState(42)\n",
        "x = 10 * rng.rand(50)\n",
        "y = 2 * x - 1 + rng.randn(50)\n",
        "plt.scatter(x, y)"
      ]
    },
    {
      "cell_type": "markdown",
      "metadata": {
        "deletable": true,
        "editable": true,
        "id": "5GPMcRlX6f11"
      },
      "source": [
        "Con questi dati a disposizione, possiamo utilizzare la ricetta delineata in precedenza. Esaminiamo il processo:"
      ]
    },
    {
      "cell_type": "markdown",
      "metadata": {
        "deletable": true,
        "editable": true,
        "id": "-s2kWdQG6f11"
      },
      "source": [
        "#### 1. Scegliamo una classe di modello\n",
        "\n",
        "In Scikit-Learn, ogni classe del modello è rappresentata da una classe Python. \n",
        "Quindi, ad esempio, se desideriamo calcolare un semplice modello di regressione lineare, possiamo importare la classe di regressione lineare:"
      ]
    },
    {
      "cell_type": "code",
      "execution_count": null,
      "metadata": {
        "deletable": true,
        "editable": true,
        "id": "bcH12lMn6f11",
        "tags": []
      },
      "outputs": [],
      "source": [
        "from sklearn.linear_model import LinearRegression"
      ]
    },
    {
      "cell_type": "markdown",
      "metadata": {
        "deletable": true,
        "editable": true,
        "id": "7M1wCouZ6f11"
      },
      "source": [
        "#### 2. Scegliamo gli iperparametri del modello\n",
        "\n",
        "Un punto importante è che una classe di modello non è la stessa cosa di un'istanza di un modello .\n",
        "\n",
        "Una volta decisa la classe del nostro modello, ci sono ancora alcune opzioni aperte. A seconda della classe del modello con cui stiamo lavorando, potremmo dover rispondere a una o più domande come le seguenti:\n",
        "\n",
        "- Vogliamo adattarci all'offset (cioè, intercetta y )?\n",
        "- Vogliamo che il modello sia normalizzato?\n",
        "- Vogliamo preelaborare le nostre funzionalità per aggiungere flessibilità al modello?\n",
        "- Quale grado di regolarizzazione vogliamo utilizzare nel nostro modello?\n",
        "- Quanti componenti del modello vogliamo utilizzare?\n",
        "\n",
        "Questi sono esempi delle scelte importanti che devono essere fatte una volta selezionata la classe del modello . Queste scelte sono spesso rappresentate come iperparametri o parametri che devono essere impostati prima che il modello sia adatto ai dati. In Scikit-Learn, gli iperparametri vengono scelti passando i valori durante l'istanziazione del modello.\n",
        "\n",
        "Per il nostro esempio di regressione lineare, possiamo istanziare la classe  LinearRegression e specificare che vorremmo adattare l'intercetta utilizzando l'iperparametro fit_intercept:"
      ]
    },
    {
      "cell_type": "code",
      "execution_count": null,
      "metadata": {
        "deletable": true,
        "editable": true,
        "id": "tCyiFfyb6f11",
        "jupyter": {
          "outputs_hidden": false
        },
        "outputId": "4345c982-84e6-4320-b3fb-ffe03674f6b8"
      },
      "outputs": [],
      "source": [
        "model = LinearRegression(fit_intercept=True)\n",
        "model"
      ]
    },
    {
      "cell_type": "markdown",
      "metadata": {
        "deletable": true,
        "editable": true,
        "id": "EClBQFJs6f11"
      },
      "source": [
        "Tenete presente che quando viene istanziato il modello, l'unica azione è la memorizzazione di questi valori di iperparametri. In particolare, non abbiamo ancora applicato il modello a nessun dato: l'API Scikit-Learn rende molto chiara la distinzione tra scelta del modello e applicazione del modello ai dati ."
      ]
    },
    {
      "cell_type": "markdown",
      "metadata": {
        "deletable": true,
        "editable": true,
        "id": "jfbAuZmP6f11"
      },
      "source": [
        "#### 3. Disporre i dati in una matrice delle caratteristiche e in un vettore target\n",
        "\n",
        "In precedenza abbiamo dettagliato la rappresentazione dei dati Scikit-Learn, che richiede una matrice di caratteristiche bidimensionali e un array di destinazione unidimensionale. Qui la nostra variabile target y è già nella forma corretta (un n_samples array di lunghezze), ma dobbiamo adattare i dati x per renderli una matrice di dimensione [n_samples, n_features]. In questo caso, ciò equivale a un semplice rimodellamento dell'array unidimensionale:"
      ]
    },
    {
      "cell_type": "code",
      "execution_count": null,
      "metadata": {
        "deletable": true,
        "editable": true,
        "id": "zdj4FwmB6f11",
        "jupyter": {
          "outputs_hidden": false
        },
        "outputId": "b78ab2ce-d0b2-4312-b165-f7f06ac7beb4"
      },
      "outputs": [],
      "source": [
        "X = x[:, np.newaxis]\n",
        "X.shape"
      ]
    },
    {
      "cell_type": "markdown",
      "metadata": {
        "deletable": true,
        "editable": true,
        "id": "R7Rl8H006f11"
      },
      "source": [
        "#### 4. Adattare il modello ai dati\n",
        "\n",
        "Ora è il momento di applicare il nostro modello ai dati. Questo può essere fatto con il metodo fit() del modello:"
      ]
    },
    {
      "cell_type": "code",
      "execution_count": null,
      "metadata": {
        "deletable": true,
        "editable": true,
        "id": "LVoCQjyY6f12",
        "jupyter": {
          "outputs_hidden": false
        },
        "outputId": "6c0ed8a4-20ad-418b-e730-6a90aa0b053f"
      },
      "outputs": [],
      "source": [
        "model.fit(X, y)"
      ]
    },
    {
      "cell_type": "markdown",
      "metadata": {
        "deletable": true,
        "editable": true,
        "id": "YMP1OKgo6f12"
      },
      "source": [
        "Questo comando fit() provoca l'esecuzione di una serie di calcoli interni dipendenti dal modello e i risultati di questi calcoli vengono archiviati in attributi specifici del modello che l'utente può esplorare. In Scikit-Learn, per convenzione tutti i parametri del modello appresi durante il fit() processo hanno un carattere di sottolineatura finale; ad esempio in questo modello lineare, abbiamo quanto segue:"
      ]
    },
    {
      "cell_type": "code",
      "execution_count": null,
      "metadata": {
        "deletable": true,
        "editable": true,
        "id": "uWsowleW6f12",
        "jupyter": {
          "outputs_hidden": false
        },
        "outputId": "350a8731-dec4-48d6-bde7-b65ca4de0c85"
      },
      "outputs": [],
      "source": [
        "model.coef_"
      ]
    },
    {
      "cell_type": "code",
      "execution_count": null,
      "metadata": {
        "deletable": true,
        "editable": true,
        "id": "8Rp5Y8zG6f12",
        "jupyter": {
          "outputs_hidden": false
        },
        "outputId": "abc5fbba-adc7-4b3c-b1e7-fe7bc479bac4"
      },
      "outputs": [],
      "source": [
        "model.intercept_"
      ]
    },
    {
      "cell_type": "markdown",
      "metadata": {
        "deletable": true,
        "editable": true,
        "id": "Y5qv7yB16f12"
      },
      "source": [
        "Questi due parametri rappresentano la pendenza e l'intercetta dell'adattamento lineare semplice ai dati. Confrontando la definizione dei dati, vediamo che sono molto vicini alla pendenza di input di 2 e all'intercetta di -1.\n",
        "\n",
        "Una domanda che emerge frequentemente riguarda l’incertezza in tali parametri del modello interno. In generale, Scikit-Learn non fornisce strumenti per trarre conclusioni dai parametri interni del modello stesso: l'interpretazione dei parametri del modello è molto più una questione di modellazione statistica che una questione di apprendimento automatico . L’apprendimento automatico si concentra piuttosto su ciò che prevede il modello. "
      ]
    },
    {
      "cell_type": "markdown",
      "metadata": {
        "deletable": true,
        "editable": true,
        "id": "JQKE5X5u6f12"
      },
      "source": [
        "### 5. Prevedere le etichette per dati sconosciuti\n",
        "\n",
        "Una volta addestrato il modello, il compito principale dell'apprendimento automatico supervisionato è valutarlo in base a ciò che dice sui nuovi dati che non facevano parte del set di addestramento. In Scikit-Learn, questo può essere fatto utilizzando il metodo predict(). Ai fini di questo esempio, i nostri \"nuovi dati\" saranno una griglia di valori x e chiederemo quali valori y prevede il modello:"
      ]
    },
    {
      "cell_type": "code",
      "execution_count": null,
      "metadata": {
        "deletable": true,
        "editable": true,
        "id": "MSo8u6hu6f12",
        "tags": []
      },
      "outputs": [],
      "source": [
        "xfit = np.linspace(-1, 11)"
      ]
    },
    {
      "cell_type": "markdown",
      "metadata": {
        "deletable": true,
        "editable": true,
        "id": "yblCnkbv6f12"
      },
      "source": [
        "Come prima, dobbiamo forzare questi valori x in una [n_samples, n_features] matrice di caratteristiche, dopo di che possiamo inserirli nel modello:"
      ]
    },
    {
      "cell_type": "code",
      "execution_count": null,
      "metadata": {
        "deletable": true,
        "editable": true,
        "id": "c_vTERAL6f18",
        "jupyter": {
          "outputs_hidden": false
        }
      },
      "outputs": [],
      "source": [
        "Xfit = xfit[:, np.newaxis]\n",
        "yfit = model.predict(Xfit)"
      ]
    },
    {
      "cell_type": "markdown",
      "metadata": {
        "deletable": true,
        "editable": true,
        "id": "ISebqGOz6f18"
      },
      "source": [
        "Infine, visualizziamo i risultati tracciando prima i dati grezzi e poi adattando questo modello:"
      ]
    },
    {
      "cell_type": "code",
      "execution_count": null,
      "metadata": {
        "deletable": true,
        "editable": true,
        "id": "32EDncmG6f18",
        "jupyter": {
          "outputs_hidden": false
        },
        "outputId": "5f2687d9-fc68-4304-8855-627789dd2da2"
      },
      "outputs": [],
      "source": [
        "plt.scatter(x, y)\n",
        "plt.plot(xfit, yfit)"
      ]
    }
  ],
  "metadata": {
    "anaconda-cloud": {},
    "colab": {
      "provenance": []
    },
    "jupytext": {
      "formats": "ipynb,md"
    },
    "kernelspec": {
      "display_name": "Python 3 (ipykernel)",
      "language": "python",
      "name": "python3"
    },
    "language_info": {
      "codemirror_mode": {
        "name": "ipython",
        "version": 3
      },
      "file_extension": ".py",
      "mimetype": "text/x-python",
      "name": "python",
      "nbconvert_exporter": "python",
      "pygments_lexer": "ipython3",
      "version": "3.11.8"
    }
  },
  "nbformat": 4,
  "nbformat_minor": 0
}
