{
 "cells": [
  {
   "cell_type": "markdown",
   "metadata": {},
   "source": [
    "# Seaborn"
   ]
  },
  {
   "cell_type": "markdown",
   "metadata": {},
   "source": [
    "<img src=\"https://seaborn.pydata.org/_images/logo-wide-lightbg.svg\" alt=\"350\" width=\"400\" align=\"left\"/>"
   ]
  },
  {
   "cell_type": "markdown",
   "metadata": {},
   "source": [
    "## Cos'è Seaborn:\n",
    "\n",
    "Seaborn è una libreria di visualizzazione dati Python basata su matplotlib.\n",
    "\n",
    "Fornisce un'interfaccia di alto livello per disegnare grafici statistici accattivanti e informativi."
   ]
  },
  {
   "cell_type": "markdown",
   "metadata": {},
   "source": [
    "### Import Seaborn"
   ]
  },
  {
   "cell_type": "code",
   "execution_count": null,
   "metadata": {},
   "outputs": [],
   "source": [
    "import seaborn as sns\n",
    "import pandas as pd\n",
    "import matplotlib.pyplot as plt "
   ]
  },
  {
   "cell_type": "code",
   "execution_count": null,
   "metadata": {},
   "outputs": [],
   "source": [
    "import warnings #ignore warnings\n",
    "warnings.filterwarnings(\"ignore\")"
   ]
  },
  {
   "cell_type": "code",
   "execution_count": null,
   "metadata": {},
   "outputs": [],
   "source": [
    "df = pd.read_csv('titanic/train.csv') #import Titanic dataset\n",
    "df.head()"
   ]
  },
  {
   "cell_type": "markdown",
   "metadata": {},
   "source": [
    "## displot:\n",
    "\n",
    "Questa funzione combina la funzione matplotlib hist (con calcolo automatico di una buona dimensione predefinita del contenitore) con le funzioni seaborn kdeplot() e rugplot().\n",
    "\n",
    "Può anche adattarsi alle distribuzioni scipy.stats e tracciare il PDF stimato sui dati."
   ]
  },
  {
   "cell_type": "code",
   "execution_count": null,
   "metadata": {},
   "outputs": [],
   "source": [
    "plt.figure(figsize=(12,6))\n",
    "\n",
    "sns.histplot(df['Age'],kde=True)\n",
    "plt.show()"
   ]
  },
  {
   "cell_type": "markdown",
   "metadata": {},
   "source": [
    "## Barplot:\n",
    "    \n",
    "Mostra le stime puntuali e gli intervalli di confidenza come barre rettangolari.\n",
    "\n",
    "Un grafico a barre rappresenta una stima della tendenza centrale per una variabile numerica con l'altezza di ciascun rettangolo e fornisce alcune indicazioni dell'incertezza attorno a tale stima utilizzando le barre di errore. I grafici a barre includono 0 nell'intervallo dell'asse quantitativo e sono una buona scelta quando 0 è un valore significativo per la variabile quantitativa e si desidera effettuare confronti con esso."
   ]
  },
  {
   "cell_type": "code",
   "execution_count": null,
   "metadata": {},
   "outputs": [],
   "source": [
    "plt.figure(figsize=(10,6))\n",
    "sns.barplot(x=\"Sex\", y=\"Survived\", hue=\"Pclass\", data=df)\n",
    "plt.show()"
   ]
  },
  {
   "cell_type": "markdown",
   "metadata": {},
   "source": [
    "## Swarmplot:\n",
    "\n",
    "Disegna un grafico a dispersione categorico con punti non sovrapposti.\n",
    "\n",
    "Questa funzione è simile a stripplot(), ma i punti vengono regolati (solo lungo l'asse delle categorie) in modo che non si sovrappongano. Ciò fornisce una migliore rappresentazione della distribuzione dei valori, ma non si adatta bene a un gran numero di osservazioni. Questo stile di trama è talvolta chiamato “sciarme d’api”."
   ]
  },
  {
   "cell_type": "code",
   "execution_count": null,
   "metadata": {},
   "outputs": [],
   "source": [
    "plt.figure(figsize=(10,6))\n",
    "sns.swarmplot(x=\"Sex\", y=\"Age\", data=df)\n",
    "plt.show()"
   ]
  },
  {
   "cell_type": "markdown",
   "metadata": {},
   "source": [
    "## Boxplot:\n",
    "    \n",
    "Disegna un box plot per mostrare le distribuzioni rispetto alle categorie."
   ]
  },
  {
   "cell_type": "code",
   "execution_count": null,
   "metadata": {},
   "outputs": [],
   "source": [
    "plt.figure(figsize=(10,6))\n",
    "sns.boxplot(x=\"Survived\", y=\"Age\", data=df)\n",
    "plt.show()"
   ]
  },
  {
   "cell_type": "markdown",
   "metadata": {},
   "source": [
    "## Regplot\n",
    "\n",
    "Tracciare i dati e un modello di regressione lineare."
   ]
  },
  {
   "cell_type": "code",
   "execution_count": null,
   "metadata": {},
   "outputs": [],
   "source": [
    "plt.figure(figsize=(10, 8))\n",
    "sns.regplot(x=\"Age\", y=\"Fare\", data=df)\n",
    "plt.show()"
   ]
  },
  {
   "cell_type": "markdown",
   "metadata": {},
   "source": [
    "## Heatmap -> Correlation Matrix:\n",
    "\n",
    "Traccia i dati rettangolari come una matrice codificata a colori.\n",
    "\n",
    "Una mappa termica di correlazione è una mappa termica che mostra una matrice di correlazione 2D tra due dimensioni discrete, utilizzando celle colorate per rappresentare i dati solitamente da una scala monocromatica"
   ]
  },
  {
   "cell_type": "code",
   "execution_count": null,
   "metadata": {},
   "outputs": [],
   "source": [
    "plt.figure(figsize=(10, 8))\n",
    "sns.heatmap(df.corr(), cmap = \"YlGnBu\", annot=True, fmt=\".2f\")\n",
    "plt.show()"
   ]
  }
 ],
 "metadata": {
  "kernelspec": {
   "display_name": "Python 3 (ipykernel)",
   "language": "python",
   "name": "python3"
  },
  "language_info": {
   "codemirror_mode": {
    "name": "ipython",
    "version": 3
   },
   "file_extension": ".py",
   "mimetype": "text/x-python",
   "name": "python",
   "nbconvert_exporter": "python",
   "pygments_lexer": "ipython3",
   "version": "3.11.7"
  }
 },
 "nbformat": 4,
 "nbformat_minor": 1
}
