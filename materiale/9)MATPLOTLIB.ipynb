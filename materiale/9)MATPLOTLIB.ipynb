{
 "cells": [
  {
   "cell_type": "markdown",
   "metadata": {},
   "source": [
    "<img src=\"https://interactivechaos.com/sites/default/files/2019-02/tutorial_matplotlib.png\" alt=\"350\" width=\"300\" align=\"left\"/>"
   ]
  },
  {
   "cell_type": "markdown",
   "metadata": {},
   "source": [
    "# MATPLOTLIB\n"
   ]
  },
  {
   "cell_type": "markdown",
   "metadata": {},
   "source": [
    "## Cos'è Matplotlib?"
   ]
  },
  {
   "cell_type": "markdown",
   "metadata": {},
   "source": [
    "Matplotlib è una libreria di grafici open source in Python che funge da utilità di visualizzazione.\n",
    "\n",
    "Può creare tipi di visualizzazione popolari: grafico a linee, grafico a dispersione, istogramma, grafico a barre, grafici di errore, grafico a torta, grafico a scatola e molti altri tipi di grafico.\n",
    "\n",
    "Matplotlib supporta anche la stampa 3D\n",
    "\n",
    "Matplotlib è scritto principalmente in Python, alcuni segmenti sono scritti in C, Objective-C e Javascript per la compatibilità della piattaforma."
   ]
  },
  {
   "cell_type": "markdown",
   "metadata": {},
   "source": [
    "\n",
    "## Import Matplotlib\n"
   ]
  },
  {
   "cell_type": "code",
   "execution_count": null,
   "metadata": {},
   "outputs": [],
   "source": [
    "# Import dependencies\n",
    "\n",
    "import numpy as np\n",
    "import pandas as pd"
   ]
  },
  {
   "cell_type": "code",
   "execution_count": null,
   "metadata": {},
   "outputs": [],
   "source": [
    "# Import Matplotlib\n",
    "\n",
    "import matplotlib.pyplot as plt "
   ]
  },
  {
   "cell_type": "markdown",
   "metadata": {},
   "source": [
    "## Gerarchia degli oggetti Matplotlib\n",
    "\n",
    "***Figure= contenitore (contenitore) -> Axes= graph (grafico), una Figura può contenereaxis multipli (1 o più grafici).***\n",
    "\n",
    "Esiste una gerarchia di oggetti all'interno di Matplotlib. In Matplotlib, una trama è una gerarchia di oggetti Python annidati.\n",
    "Una**gerarca** significa che esiste una struttura ad albero di oggetti Matplotlib alla base di ogni grafico.\n",
    "\n",
    "\n",
    "Un oggetto **Figure** è il contenitore più esterno per un grafico Matplotlib. L'oggetto **Figure** contiene più oggetti **Axes**. Quindi, la **Figura** è l'immagine finale che può contenere uno o più **Assi**. Gli **Assi** rappresentano una trama individuale.\n",
    "\n",
    "\n",
    "Quindi, possiamo pensare all'oggetto **Figure** come a un contenitore a forma di scatola contenente uno o più **Axes**. L'oggetto **Assi** contiene oggetti più piccoli come segni di spunta, linee, legende, titoli e caselle di testo."
   ]
  },
  {
   "cell_type": "markdown",
   "metadata": {},
   "source": [
    "## Parti di un plot\n",
    "\n",
    "\n",
    "Ci sono diverse parti di un plot. Si tratta di titolo, legenda, griglia, asse ed etichette, ecc. Questi sono indicati nella figura seguente: -\n",
    "\n",
    "\n"
   ]
  },
  {
   "cell_type": "markdown",
   "metadata": {},
   "source": [
    "### Figura e assi\n",
    "\n",
    "\n",
    "Inizio creando una figura e un asse. Una figura e gli assi possono essere creati come segue:\n",
    "\n",
    "\n",
    "`fig = plt.figure()`\n",
    "\n",
    "`ax = plt.axes()`\n",
    "\n",
    "\n",
    "\n",
    "In Matplotlib, la **figure** (un'istanza della classe plt.Figure) è un singolo contenitore che contiene tutti gli oggetti che rappresentano assi, grafica, testo ed etichette. **axes** (un'istanza della classe plt.Axes) è un riquadro di delimitazione con\n",
    "zecche ed etichette. Conterrà gli elementi della trama che compongono la visualizzazione. Ho usato il nome della variabile fig\n",
    "per fare riferimento a un'istanza di figura e ax per fare riferimento a un'istanza di assi o a un gruppo di istanze di assi.\n"
   ]
  },
  {
   "cell_type": "code",
   "execution_count": null,
   "metadata": {},
   "outputs": [],
   "source": [
    "fig = plt.figure()\n",
    "fig"
   ]
  },
  {
   "cell_type": "code",
   "execution_count": null,
   "metadata": {},
   "outputs": [],
   "source": [
    "ax = plt.axes()\n",
    "ax"
   ]
  },
  {
   "cell_type": "markdown",
   "metadata": {},
   "source": [
    "## Primo grafico con Matplotlib\n"
   ]
  },
  {
   "cell_type": "markdown",
   "metadata": {},
   "source": [
    "### plot() - Un comando versatile\n",
    "**plot()** è un comando versatile. Ci vorrà un numero arbitrario di argomenti.\n",
    "\n",
    "Ad esempio, per tracciare x rispetto a y, possiamo eseguire il seguente comando:"
   ]
  },
  {
   "cell_type": "code",
   "execution_count": null,
   "metadata": {},
   "outputs": [],
   "source": [
    "x= [1, 2, 3, 4]\n",
    "y= [1, 4, 9, 16]\n",
    "\n",
    "plt.plot(x, y)\n",
    "plt.show()"
   ]
  },
  {
   "cell_type": "code",
   "execution_count": null,
   "metadata": {},
   "outputs": [],
   "source": [
    "y= [1, 4, 9, 16]\n",
    "\n",
    "plt.plot(y) # -> x will be by default [0,1,2,3,4 .... n]\n",
    "plt.show()"
   ]
  },
  {
   "cell_type": "markdown",
   "metadata": {},
   "source": [
    "## Grafico multilinea\n",
    "\n",
    "Per grafici multilinea si intende tracciare più di un grafico sulla stessa figura. Possiamo tracciare più di un grafico sulla stessa figura.\n",
    "Può essere ottenuto tracciando tutte le linee prima di chiamare show(). Può essere fatto come segue:"
   ]
  },
  {
   "cell_type": "code",
   "execution_count": null,
   "metadata": {},
   "outputs": [],
   "source": [
    "y= np.array([1,2,3,4])\n",
    "\n",
    "plt.plot(y)\n",
    "\n",
    "plt.plot(y**2)\n",
    "\n",
    "plt.plot(y**3)\n",
    "\n",
    "plt.show()"
   ]
  },
  {
   "cell_type": "markdown",
   "metadata": {},
   "source": [
    "## Aggiunta di una griglia\n",
    "\n",
    "\n",
    "In alcuni casi, lo sfondo di una trama era completamente vuoto. Possiamo ottenere maggiori informazioni se è presente un sistema di riferimento nella trama. Il sistema di riferimento migliorerebbe la comprensione della trama. Un esempio del sistema di riferimento è l'aggiunta di una **griglia**.\n",
    "Possiamo aggiungere una griglia al grafico chiamando la funzione **grid()**. Richiede un parametro, un valore booleano, per abilitare (se True)\n",
    "o disabilitare (se False) la griglia."
   ]
  },
  {
   "cell_type": "code",
   "execution_count": null,
   "metadata": {},
   "outputs": [],
   "source": [
    "y= np.array([1,2,3,4])\n",
    "\n",
    "plt.plot(y)\n",
    "plt.plot(y**2)\n",
    "plt.plot(y**3)\n",
    "\n",
    "plt.grid() #add Grid\n",
    "\n",
    "plt.show()"
   ]
  },
  {
   "cell_type": "markdown",
   "metadata": {},
   "source": [
    "## Aggiunta di etichette\n",
    "\n",
    "\n",
    "Un'altra informazione importante da aggiungere a un grafico sono le etichette degli assi, poiché specificano il tipo di dati che stiamo tracciando."
   ]
  },
  {
   "cell_type": "code",
   "execution_count": null,
   "metadata": {},
   "outputs": [],
   "source": [
    "y= np.array([1,2,3,4])\n",
    "\n",
    "plt.plot(y)\n",
    "plt.plot(y**2)\n",
    "plt.plot(y**3)\n",
    "\n",
    "plt.xlabel('This is the X axis') #add X label\n",
    "\n",
    "plt.ylabel('This is the Y axis') # add Y label\n",
    "\n",
    "plt.show()"
   ]
  },
  {
   "cell_type": "markdown",
   "metadata": {},
   "source": [
    "## Aggiunta di un titolo\n",
    "\n",
    "\n",
    "Il titolo di una trama descrive la trama. Matplotlib fornisce una semplice funzione **title()** per aggiungere un titolo a un'immagine."
   ]
  },
  {
   "cell_type": "code",
   "execution_count": null,
   "metadata": {},
   "outputs": [],
   "source": [
    "y= np.array([1,2,3,4])\n",
    "\n",
    "plt.plot(y)\n",
    "plt.plot(y**2)\n",
    "plt.plot(y**3)\n",
    "\n",
    "plt.xlabel('This is the X axis') \n",
    "\n",
    "plt.ylabel('This is the Y axis') \n",
    "\n",
    "plt.title('My First Plot') #add Title\n",
    "\n",
    "plt.show()"
   ]
  },
  {
   "cell_type": "markdown",
   "metadata": {},
   "source": [
    "## Aggiunta di una legenda\n",
    "\n",
    "\n",
    "Le legende vengono utilizzate per descrivere il significato di ciascuna linea o curva nel grafico.\n",
    "\n",
    "Le legende per le curve in una figura possono essere aggiunte in due modi. Un metodo consiste nell'utilizzare il metodo **legend** dell'oggetto asse e\n",
    "passare un elenco/tupla di testi della legenda come segue: -"
   ]
  },
  {
   "cell_type": "code",
   "execution_count": null,
   "metadata": {},
   "outputs": [],
   "source": [
    "y= np.array([1,2,3,4])\n",
    "\n",
    "plt.plot(y)\n",
    "plt.plot(y**2)\n",
    "plt.plot(y**3)\n",
    "\n",
    "plt.xlabel('This is the X axis') \n",
    "\n",
    "plt.ylabel('This is the Y axis')\n",
    "\n",
    "plt.title('My First Plot')\n",
    "\n",
    "plt.legend(['Y','Y^2','Y^3']) #add Legend\n",
    "\n",
    "plt.show()"
   ]
  },
  {
   "cell_type": "markdown",
   "metadata": {},
   "source": [
    "## Controlla i colori\n",
    "\n",
    "\n",
    "Possiamo disegnare linee o curve diverse in una trama con colori diversi. Nel codice seguente specifichiamo color come ultimo argomento per disegnare linee rosse, blu e verdi."
   ]
  },
  {
   "cell_type": "code",
   "execution_count": null,
   "metadata": {},
   "outputs": [],
   "source": [
    "y= np.array([1,2,3,4])\n",
    "\n",
    "#add color parameter\n",
    "\n",
    "plt.plot(y, 'green') \n",
    "plt.plot(y**2, 'orange')\n",
    "plt.plot(y**3, 'blue')\n",
    "\n",
    "plt.xlabel('This is the X axis') \n",
    "\n",
    "plt.ylabel('This is the Y axis')\n",
    "\n",
    "plt.title('My First Plot')\n",
    "\n",
    "plt.legend(['Y','Y^2','Y^3'])\n",
    "\n",
    "plt.show()"
   ]
  },
  {
   "cell_type": "markdown",
   "metadata": {},
   "source": [
    "## Cambia grandezza"
   ]
  },
  {
   "cell_type": "code",
   "execution_count": 46,
   "metadata": {},
   "outputs": [
    {
     "data": {
      "image/png": "[encoded data removed]",
      "text/plain": [
       "<Figure size 1000x600 with 1 Axes>"
      ]
     },
     "metadata": {},
     "output_type": "display_data"
    }
   ],
   "source": [
    "plt.figure(figsize=(10,6)) # change size -> plt.figure(figsize=(width, length))\n",
    "\n",
    "y= np.array([1,2,3,4])\n",
    "\n",
    "plt.plot(y, 'red')\n",
    "plt.plot(y**2, 'orange')\n",
    "plt.plot(y**3, 'blue')\n",
    "\n",
    "plt.xlabel('This is the X axis') \n",
    "\n",
    "plt.ylabel('This is the Y axis')\n",
    "\n",
    "plt.title('My First Plot')\n",
    "\n",
    "plt.legend(['Y','Y^2','Y^3'])\n",
    "\n",
    "plt.show()"
   ]
  },
  {
   "cell_type": "markdown",
   "metadata": {},
   "source": [
    "## Figura e sottotrame\n",
    "\n",
    "\n",
    "\n",
    "I grafici in Matplotlib risiedono all'interno di un oggetto Figure. Come descritto in precedenza, possiamo creare una nuova figura con plt.figure()\n",
    "come segue:\n",
    "\n",
    "\n",
    "`fig = plt.figure()`\n",
    "\n",
    "\n",
    "Ora creo una o più sottotrame utilizzando fig.add_subplot() come segue: -\n",
    "\n",
    "\n",
    "`ax1 = fig.add_subplot(2, 2, 1)`\n",
    "\n",
    "\n",
    "Il comando precedente significa che ci sono quattro grafici in totale (2 * 2 = 4). Seleziono la prima delle quattro sottotrame (numerate da 1).\n",
    "\n",
    "\n",
    "Creo le tre sottotrame successive utilizzando i comandi fig.add_subplot() come segue: -\n",
    "\n",
    "\n",
    "`ax2 = fig.add_subplot(2, 2, 2)`\n",
    "\n",
    "`ax3 = fig.add_subplot(2, 2, 3)`\n",
    "\n",
    "`ax4 = fig.add_subplot(2, 2, 4)`"
   ]
  },
  {
   "attachments": {
    "Subplots.png": {
     "image/png": "[encoded data removed]"
    }
   },
   "cell_type": "markdown",
   "metadata": {},
   "source": [
    "Il comando precedente comporta la creazione di sottotrame. La rappresentazione schematica delle sottotrame è la seguente: -\n",
    "\n",
    "\n",
    "![Subplots.png](attachment:Subplots.png)"
   ]
  },
  {
   "cell_type": "code",
   "execution_count": 10,
   "metadata": {},
   "outputs": [
    {
     "data": {
      "image/png": "[encoded data removed]",
      "text/plain": [
       "<Figure size 1000x800 with 4 Axes>"
      ]
     },
     "metadata": {},
     "output_type": "display_data"
    }
   ],
   "source": [
    "import matplotlib.pyplot as plt\n",
    "import numpy as np\n",
    "\n",
    "plt.figure(figsize=(10,8))\n",
    "\n",
    "#Subplots:\n",
    "\n",
    "x = np.array([0, 1, 2, 3])\n",
    "y = np.array([3, 8, 1, 10])\n",
    "\n",
    "plt.subplot(2, 2, 1) #n rows, n columns, id subplot\n",
    "plt.plot(x,y)\n",
    "\n",
    "x = np.array([0, 1, 2, 3])\n",
    "y = np.array([10, 20, 30, 40])\n",
    "\n",
    "plt.subplot(2, 2, 2)\n",
    "plt.plot(x,y)\n",
    "\n",
    "x = np.array([0, 1, 2, 3])\n",
    "y = np.array([3, 8, 1, 10])\n",
    "\n",
    "plt.subplot(2, 2, 3)\n",
    "plt.plot(x,y)\n",
    "\n",
    "x = np.array([0, 1, 2, 3])\n",
    "y = np.array([10, 20, 30, 40])\n",
    "\n",
    "plt.subplot(2, 2, 4)\n",
    "plt.plot(x,y)\n",
    "\n",
    "plt.show()\n",
    "\n"
   ]
  },
  {
   "cell_type": "markdown",
   "metadata": {},
   "source": [
    "# PLOT TYPES"
   ]
  },
  {
   "cell_type": "markdown",
   "metadata": {},
   "source": [
    "## Grafico a linee\n",
    "\n",
    "\n",
    "Possiamo usare i seguenti comandi per disegnare il semplice grafico della linea sinusoidale:\n",
    "\n"
   ]
  },
  {
   "cell_type": "code",
   "execution_count": null,
   "metadata": {},
   "outputs": [],
   "source": [
    "x = np.linspace(0, 10, 1000)\n",
    "\n",
    "# Plot the sinusoid function\n",
    "\n",
    "plt.plot(x, np.sin(x), 'blue'); \n",
    "plt.show()\n"
   ]
  },
  {
   "cell_type": "markdown",
   "metadata": {},
   "source": [
    "## Grafico a dispersione\n",
    "\n",
    "Un altro tipo di grafico comunemente utilizzato è il grafico a dispersione. Qui i punti sono rappresentati singolarmente con un punto o un cerchio.\n",
    "\n",
    "\n",
    "### Grafico a dispersione con plt.plot()\n",
    "\n",
    "La funzione **plt.scatter()** può essere utilizzata per tracciare un semplice grafico a dispersione come segue:"
   ]
  },
  {
   "cell_type": "code",
   "execution_count": null,
   "metadata": {},
   "outputs": [],
   "source": [
    "x = np.linspace(0, 10, 30)\n",
    "\n",
    "y = np.sin(x)\n",
    "\n",
    "plt.scatter(x, y, color = 'green')\n",
    "\n",
    "plt.show()\n"
   ]
  },
  {
   "cell_type": "markdown",
   "metadata": {},
   "source": [
    "## Istogramma\n",
    "\n",
    "\n",
    "I grafici dell'istogramma sono una visualizzazione grafica delle frequenze. Sono rappresentati come barre. Mostrano quale parte del\n",
    "il set di dati rientra in ciascuna categoria, solitamente specificata come intervalli non sovrapposti. Queste categorie sono chiamate contenitori.\n",
    "\n",
    "La funzione **plt.hist()** può essere utilizzata per tracciare un semplice istogramma come segue:"
   ]
  },
  {
   "cell_type": "code",
   "execution_count": null,
   "metadata": {},
   "outputs": [],
   "source": [
    "data1 = np.random.randn(1000)\n",
    "\n",
    "plt.hist(data1)\n",
    "plt.show()"
   ]
  },
  {
   "cell_type": "markdown",
   "metadata": {},
   "source": [
    "##\tGrafico a barre\n",
    "\n",
    "\n",
    "I grafici a barre visualizzano barre rettangolari in forma verticale o orizzontale. La loro lunghezza è proporzionale ai valori che rappresentano. Vengono utilizzati per confrontare due o più valori.\n",
    "\n",
    "\n",
    "Possiamo tracciare un grafico a barre usando la funzione plt.bar(). Possiamo tracciare un grafico a barre come segue:"
   ]
  },
  {
   "cell_type": "code",
   "execution_count": null,
   "metadata": {},
   "outputs": [],
   "source": [
    "data2 = [5. , 25. , 50. , 20.]\n",
    "\n",
    "plt.bar(range(len(data2)), data2)\n",
    "\n",
    "plt.show() \n"
   ]
  },
  {
   "cell_type": "markdown",
   "metadata": {},
   "source": [
    "## Grafico a barre orizzontali\n",
    "\n",
    "\n",
    "Possiamo produrre un grafico a barre orizzontali utilizzando la funzione plt.barh(). È l'equivalente rigoroso della funzione plt.bar()."
   ]
  },
  {
   "cell_type": "code",
   "execution_count": null,
   "metadata": {},
   "outputs": [],
   "source": [
    "data2 = [5. , 25. , 50. , 20.]\n",
    "\n",
    "plt.barh(range(len(data2)), data2)\n",
    "\n",
    "plt.show() \n"
   ]
  },
  {
   "cell_type": "markdown",
   "metadata": {},
   "source": [
    "##  Grafico a torta\n",
    "\n",
    "\n",
    "I grafici a torta sono rappresentazioni circolari, divise in settori. I settori sono anche chiamati **cunei**. La lunghezza dell'arco di ciascun settore è proporzionale alla quantità che stiamo descrivendo. È un modo efficace per rappresentare le informazioni quando siamo interessati principalmente a confrontare la fetta con l'intera torta, invece che le fette l'una contro l'altra.\n",
    "\n",
    "Matplotlib fornisce la funzione **pie()** per tracciare grafici a torta da un array X. I cunei vengono creati proporzionalmente, in modo che ogni valore x dell'array X generi un cuneo proporzionale a x/sum(X)."
   ]
  },
  {
   "cell_type": "code",
   "execution_count": null,
   "metadata": {},
   "outputs": [],
   "source": [
    "plt.figure(figsize=(7,7))\n",
    "\n",
    "x = [35, 25, 20, 20]\n",
    "\n",
    "labels = ['Computer', 'Electronics', 'Mechanical', 'Chemical']\n",
    "\n",
    "plt.pie(x, labels=labels)\n",
    "\n",
    "plt.show()"
   ]
  },
  {
   "cell_type": "markdown",
   "metadata": {},
   "source": [
    "## Boxplot\n",
    "\n",
    "\n",
    "Il boxplot ci consente di confrontare distribuzioni di valori mostrando la mediana, i quartili, il massimo e il minimo di un insieme di valori.\n",
    "\n",
    "Possiamo tracciare un boxplot con la funzione **boxplot()** come segue:"
   ]
  },
  {
   "cell_type": "code",
   "execution_count": null,
   "metadata": {},
   "outputs": [],
   "source": [
    "data3 = np.random.randn(100)\n",
    "\n",
    "plt.boxplot(data3)\n",
    "\n",
    "plt.show()"
   ]
  },
  {
   "cell_type": "markdown",
   "metadata": {},
   "source": [
    "La funzione **boxplot()** prende un insieme di valori e calcola la media, la mediana e altre quantità statistiche. I seguenti punti descrivono il boxplot precedente:\n",
    "\n",
    "\n",
    "• La barra rossa è la mediana della distribuzione.\n",
    "\n",
    "• La casella blu include il 50% dei dati dal quartile inferiore al quartile superiore. Pertanto, il riquadro è centrato sulla mediana dei dati.\n",
    "\n",
    "• Il baffo inferiore si estende fino al valore più basso entro 1,5 IQR dal quartile inferiore.\n",
    "\n",
    "• Il baffo superiore si estende fino al valore più alto entro 1,5 IQR dal quartile superiore.\n",
    "\n",
    "• I valori più lontani dai baffi sono indicati con un contrassegno a croce."
   ]
  },
  {
   "cell_type": "markdown",
   "metadata": {},
   "source": [
    "## Salva grafico\n",
    "\n",
    "\n",
    "Il metodo **savefig()** viene utilizzato per salvare la figura creata dopo aver tracciato i dati. La figura creata può essere salvata sui nostri computer locali utilizzando questo metodo."
   ]
  },
  {
   "cell_type": "code",
   "execution_count": null,
   "metadata": {},
   "outputs": [],
   "source": [
    "# creating plotting data \n",
    "xaxis =[1, 4, 9, 16, 25, 36, 49, 64, 81, 100] \n",
    "yaxis =[1, 2, 3, 4, 5, 6, 7, 8, 9, 10] \n",
    "  \n",
    "# plotting  \n",
    "plt.plot(xaxis, yaxis) \n",
    "plt.xlabel(\"X\") \n",
    "plt.ylabel(\"Y\") \n",
    "  \n",
    "# saving the file.Make sure you  \n",
    "# use savefig() before show(). \n",
    "plt.savefig(\"squares.png\") \n",
    "  \n",
    "plt.show() "
   ]
  },
  {
   "cell_type": "markdown",
   "metadata": {},
   "source": [
    "## <mark>Esercizio1</mark>\n",
    "<h4>Create un programma che crea un dataframe sulla base dell'imput dell'utente contenente 4 studenti e i loro voti mensili per sei mesi di studio in 4 materie.\n",
    "Il programma ci restituirà:</h4>\n",
    "<ul>\n",
    "<li>Un grafico contenente 4 grafici più piccoli, uno per ogni studuente, con andamento delle medie dei voti per ogni mese;</li>\n",
    "<li> Un altro grafico che racchiude tutti gli andamenti di tutti gli studenti</li>\n",
    "</ul>\n",
    "\n"
   ]
  },
  {
   "cell_type": "markdown",
   "metadata": {},
   "source": [
    "## <mark>Esercizio2</mark>\n",
    "<h4>Sulla base del dataframe scaricato in precedenza con i dati Netflix:</h4>\n",
    "<ul>\n",
    "<li>Grafico a Torta con le percentuali di prodotti Film o Serie TV;</li>\n",
    "<li>Grafico con da distribuzione dei prodotti per paese;</li>\n",
    "<li>Grafico con andamento dell'aggiunta dei prodotti nel corso del tempo.</li>\n",
    "<ul>\n"
   ]
  },
  {
   "cell_type": "markdown",
   "metadata": {},
   "source": [
    "## <mark>Esercizio3</mark>\n",
    "<h4>Sulla base del dataframe scaricato in precedenza con i dati sul costo delle case:</h4>\n",
    "<ul>\n",
    "<li>Grafico con relazione tra superficie abitabile e prezzo di vendita;</li>\n",
    "<li>Crea un boxplot che visualizza la distribuzione del prezzo di vendita per ogni livello di qualità generale della casa;</li>\n",
    "<li>Grafico a barre che visualizza la distribuzione del prezzo di vendita per diverse tipologie di casa (ad esempio, unifamiliare, bifamiliare, ecc.).</li>\n",
    "<ul>\n"
   ]
  }
 ],
 "metadata": {
  "kernelspec": {
   "display_name": "Python 3 (ipykernel)",
   "language": "python",
   "name": "python3"
  },
  "language_info": {
   "codemirror_mode": {
    "name": "ipython",
    "version": 3
   },
   "file_extension": ".py",
   "mimetype": "text/x-python",
   "name": "python",
   "nbconvert_exporter": "python",
   "pygments_lexer": "ipython3",
   "version": "3.11.7"
  }
 },
 "nbformat": 4,
 "nbformat_minor": 1
}
