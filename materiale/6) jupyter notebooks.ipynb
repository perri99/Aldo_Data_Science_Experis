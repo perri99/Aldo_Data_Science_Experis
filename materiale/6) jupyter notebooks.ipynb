{
 "cells": [
  {
   "cell_type": "markdown",
   "id": "12dbdacc-79d4-44f4-ad77-1f7b33ed0620",
   "metadata": {},
   "source": [
    "# Introduzione ai notebooks\n",
    "\n",
    "Un notebook è un file json che viene letto e interpretato da [Jupyter](https://jupyter.org/).\n",
    "\n",
    "Ci permette di eseguire codice in modo interattivo e di documentare gli esperimenti."
   ]
  },
  {
   "cell_type": "markdown",
   "id": "ac9a42d7-5c5f-4225-bdb6-150f14a31b7f",
   "metadata": {},
   "source": [
    "# Concetti chiave"
   ]
  },
  {
   "cell_type": "markdown",
   "id": "19591149-233f-4726-adc0-6fd7c2a576b4",
   "metadata": {},
   "source": [
    "## Cells\n",
    "Sono i blocchi elementari dei notebooks.\n",
    "\n",
    "Possono essere in:\n",
    "- *edit mode*: quando si sta modificando il contenuto (bordo blu + cursore visibile)\n",
    "- *command mode*: quando la cella è selezionata ma non si sta modificando il contenuto (non vediamo il cursore e non ha bordo blu)"
   ]
  },
  {
   "cell_type": "markdown",
   "id": "6b7170a4-2ff7-45e5-8e6f-ae535af4d0f2",
   "metadata": {},
   "source": [
    "### Markdown cells"
   ]
  },
  {
   "cell_type": "markdown",
   "id": "c322c60f-3cc2-45d4-bccf-b4e756078d36",
   "metadata": {},
   "source": [
    "Clicca e modifica\n",
    "\n",
    "Questo è un testo semplice che forma un paragrafo. Aggiungi enfasi tramite **grassetto** e __bold__, o *italico* e _italico_.\n",
    "\n",
    "I paragrafi devono essere separati da una riga vuota.\n",
    "\n",
    "* A volte vogliamo includere elenchi.\n",
    "* Che può essere puntato utilizzando gli asterischi.\n",
    "\n",
    "1. Gli elenchi possono anche essere numerati.\n",
    "2. Se vogliamo un elenco ordinato.\n",
    "\n",
    "[È possibile includere collegamenti ipertestuali](https://www.example.com)\n",
    "\n",
    "Il codice in linea utilizza singoli apici inversi: `foo()`, mentre i blocchi di codice utilizzano apici inversi tripli:\n",
    "```\n",
    "sbarra()\n",
    "```\n",
    "Oppure può essere rientrato di 4 spazi:\n",
    "\n",
    "     pippo()\n",
    "    \n",
    "E infine, aggiungere immagini è facile: ![Alt text](https://via.placeholder.com/150)"
   ]
  },
  {
   "cell_type": "markdown",
   "id": "0032b29d-6124-456b-9a17-fd129ae7e37c",
   "metadata": {},
   "source": [
    "### Code cells\n",
    "Eseguibili con `Ctrl + Enter` oppure `Shift + Enter`"
   ]
  },
  {
   "cell_type": "code",
   "execution_count": null,
   "id": "2118cc45-35d9-4dd6-a708-3b1bc334db46",
   "metadata": {},
   "outputs": [],
   "source": [
    "print('Hello World!')"
   ]
  },
  {
   "cell_type": "markdown",
   "id": "2d0e0336-3b5a-466d-a82d-969d909484bd",
   "metadata": {
    "tags": []
   },
   "source": [
    "## Kernels\n",
    "Dietro le quinte ogni notebook esegue un kernel. Nel nostro caso un kernel è un processo interattivo python.\n",
    "\n",
    "Quando viene eseguita una code cell:\n",
    "1. il codice viene inviato al kernel\n",
    "2. il kernel esegue il codice\n",
    "3. il risultato viene restituito al notebook in modo da essere visualizzato nell'output della cella\n",
    "\n",
    "Lo stato del kernel è persistente per l'intero documento (finchè il kernel non viene riavviato o spento)."
   ]
  },
  {
   "cell_type": "markdown",
   "id": "a8fb4b5c-21ad-4b55-9156-896553cb32cc",
   "metadata": {},
   "source": [
    "# Shortcuts"
   ]
  },
  {
   "cell_type": "markdown",
   "id": "40256e98-8620-4cd8-ae47-f490959a9a25",
   "metadata": {},
   "source": [
    "- Passaggio fra `edit mode` e `command mode` utilizzando `Enter` e `Esc`\n",
    "\n",
    "- Quando si è in `command mode` è possibile:\n",
    "   - Spostarsi fra le celle utilizzando i tasti \"freccia\" **su** e **giù** \n",
    "   - Inserire nuove celle sopra o sotto quella attiva premendo rispettivamente  **A** o **B**.\n",
    "   - Trasformare una cella in una *Markdown Cell* premendo **M**\n",
    "   - Trasformare una cella in una *Code Cell* premendo **Y**\n",
    "   - Eliminare una cella premendo **D + D** (2 volte **D**) will delete the active cell.\n",
    "   - Copiare una cella premendo **C**\n",
    "   - Incollare una cella premendo **V**"
   ]
  },
  {
   "cell_type": "markdown",
   "id": "36351c55-729f-4567-9801-5ede455ef3fd",
   "metadata": {},
   "source": [
    "# Magic commands\n",
    "Sono comandi speciali che possono essere eseguiti all'interno di una code cell.\n",
    "\n",
    "Alcuni esempi: \n",
    "- **!** system call: esegue un comando nel sistema che ospita il kernel\n",
    "- **%%writefile**: scrive il contenuto della cella su file\n",
    "- **%run**: esegue un file\n",
    "- **%%time**: stampa il tempo di esecuzione\n",
    "\n",
    "La lista completa è disponibile nella [documentazione ufficiale](https://ipython.readthedocs.io/en/stable/interactive/magics.html)."
   ]
  },
  {
   "cell_type": "code",
   "execution_count": null,
   "id": "2c2938f7-b0de-4615-b65a-1aceeea49b54",
   "metadata": {},
   "outputs": [],
   "source": [
    "%%writefile ./notebooks/hello_world.py\n",
    "\n",
    "print(\"hello world\")"
   ]
  },
  {
   "cell_type": "code",
   "execution_count": null,
   "id": "87fbc7e4-c26e-4bfc-9a85-1839b7a9b96f",
   "metadata": {},
   "outputs": [],
   "source": [
    "%run hello_world"
   ]
  },
  {
   "cell_type": "code",
   "execution_count": null,
   "id": "7311d9de-5c09-471e-8f40-4c81a2954658",
   "metadata": {},
   "outputs": [],
   "source": [
    "%%time\n",
    "\n",
    "import time\n",
    "time.sleep(2)"
   ]
  }
 ],
 "metadata": {
  "kernelspec": {
   "display_name": "Python [conda env:py39_pbg]",
   "language": "python",
   "name": "conda-env-py39_pbg-py"
  },
  "language_info": {
   "codemirror_mode": {
    "name": "ipython",
    "version": 3
   },
   "file_extension": ".py",
   "mimetype": "text/x-python",
   "name": "python",
   "nbconvert_exporter": "python",
   "pygments_lexer": "ipython3",
   "version": "3.9.7"
  }
 },
 "nbformat": 4,
 "nbformat_minor": 5
}
