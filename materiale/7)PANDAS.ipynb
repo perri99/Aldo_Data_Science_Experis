{
 "cells": [
  {
   "cell_type": "markdown",
   "metadata": {},
   "source": [
    "<img src=\"https://miro.medium.com/max/481/1*n_ms1q5YoHAQXXUIfeADKQ.png\" alt=\"350\" width=\"400\" align=\"left\"/>"
   ]
  },
  {
   "cell_type": "markdown",
   "metadata": {},
   "source": [
    "# Basi PANDAS\n"
   ]
  },
  {
   "cell_type": "markdown",
   "metadata": {},
   "source": [
    "# <mark>Cos'è Pandas?</mark>\n",
    "\n",
    "<ul>\n",
    "\n",
    "<li>Pandas è una libreria Python utilizzata per lavorare con set di dati.</li>\n",
    "\n",
    "<li>Ha funzioni per analizzare, pulire, esplorare e manipolare i dati.</li>\n",
    "\n",
    "<li>Il nome \"Pandas\" fa riferimento sia a \"Panel Data\" che a \"Python Data Analysis\" ed è stato creato da Wes McKinney nel 2008.</li>\n",
    "</ul>"
   ]
  },
  {
   "cell_type": "markdown",
   "metadata": {},
   "source": [
    "# Perché usare Pandas?\n",
    "\n",
    "<ul>\n",
    "\n",
    "<li>Pandas ci consente di analizzare big data e trarre conclusioni basate su teorie statistiche.</li>\n",
    "\n",
    "<li>I Panda possono ripulire set di dati disordinati e renderli leggibili e pertinenti.</li>\n",
    "\n",
    "<li>I dati rilevanti sono molto importanti nella scienza dei dati.</li>\n",
    "</ul>"
   ]
  },
  {
   "cell_type": "markdown",
   "metadata": {},
   "source": [
    "<img src=\"https://media.geeksforgeeks.org/wp-content/uploads/finallpandas.png\" alt=\"500\" width=\"550\" align=\"left\"/>"
   ]
  },
  {
   "cell_type": "markdown",
   "metadata": {},
   "source": [
    "<img src=\"https://storage.googleapis.com/lds-media/images/series-and-dataframe.width-1200.png\" alt=\"500\" width=\"550\" align=\"left\"/>\n"
   ]
  },
  {
   "cell_type": "markdown",
   "metadata": {},
   "source": [
    "<img src=\"https://miro.medium.com/max/1200/1*eE8DP4biqtaIK3aIy1S2zA.png\" alt=\"500\" width=\"650\" align=\"left\"/>"
   ]
  },
  {
   "cell_type": "markdown",
   "metadata": {},
   "source": [
    "<h1>Cos'è una serie?</h1>\n",
    "Una serie Panda è come una colonna in una tabella.\n",
    "\n",
    "È un array unidimensionale che contiene dati di qualsiasi tipo.\n",
    "\n"
   ]
  },
  {
   "cell_type": "code",
   "execution_count": null,
   "metadata": {},
   "outputs": [],
   "source": [
    "import pandas as pd\n",
    "\n",
    "a = [1, 7, 2]\n",
    "\n",
    "myvar = pd.Series(a)\n",
    "\n",
    "print(myvar)"
   ]
  },
  {
   "cell_type": "markdown",
   "metadata": {},
   "source": [
    "<h1>Etichette</h1>\n",
    "Se non viene specificato altro, i valori vengono etichettati con il relativo numero di indice. Il primo valore ha indice 0, il secondo valore ha indice 1 ecc.\n",
    "\n",
    "Questa etichetta può essere utilizzata per accedere a un valore specificato."
   ]
  },
  {
   "cell_type": "code",
   "execution_count": null,
   "metadata": {},
   "outputs": [],
   "source": [
    "print(myvar[0])"
   ]
  },
  {
   "cell_type": "markdown",
   "metadata": {},
   "source": [
    "<h1>Crea etichette</h1>\n",
    "Con l' index argomento puoi nominare le tue etichette."
   ]
  },
  {
   "cell_type": "code",
   "execution_count": null,
   "metadata": {},
   "outputs": [],
   "source": [
    "a = [1, 7, 2]\n",
    "etichette = [\"x\", \"y\", \"z\"]\n",
    "\n",
    "myvar = pd.Series(a, index = etichette)\n",
    "\n",
    "print(myvar)"
   ]
  },
  {
   "cell_type": "code",
   "execution_count": null,
   "metadata": {},
   "outputs": [],
   "source": [
    "#Dopo aver creato le etichette, puoi accedere a un elemento facendo riferimento all'etichetta."
   ]
  },
  {
   "cell_type": "code",
   "execution_count": null,
   "metadata": {},
   "outputs": [],
   "source": [
    "print(myvar[\"y\"])"
   ]
  },
  {
   "cell_type": "markdown",
   "metadata": {},
   "source": [
    "<h1>Cos'è un DataFrame?</h1>\n",
    "Un Pandas DataFrame è una struttura dati bidimensionale, come un array bidimensionale o una tabella con righe e colonne.\n",
    "\n"
   ]
  },
  {
   "cell_type": "code",
   "execution_count": null,
   "metadata": {},
   "outputs": [],
   "source": [
    "data = {\n",
    "  \"calories\": [420, 380, 390],\n",
    "  \"duration\": [50, 40, 45]\n",
    "}\n",
    "labels = ['lun', 'mar', 'mer']\n",
    "#load data into a DataFrame object:\n",
    "df = pd.DataFrame(data, labels)\n",
    "\n",
    "print(df) "
   ]
  },
  {
   "cell_type": "markdown",
   "metadata": {},
   "source": [
    "<h1>Individua riga</h1>\n",
    "Come puoi vedere dal risultato sopra, DataFrame è come una tabella con righe e colonne.\n",
    "\n",
    "I pandas utilizzano loc attributo per restituire una o più righe specificate"
   ]
  },
  {
   "cell_type": "code",
   "execution_count": null,
   "metadata": {},
   "outputs": [],
   "source": [
    "#refer to the row index:\n",
    "print(df.loc['mer'])\n",
    "print(df.iloc[0])"
   ]
  },
  {
   "cell_type": "markdown",
   "metadata": {},
   "source": [
    "## <mark>loc / Iloc</mark>:\n",
    "\n",
    "## Selezione tramite un singolo valore\n",
    "\n",
    "<ul>Sia loc che iloc consentono all'input di essere un singolo valore. Possiamo usare la seguente sintassi per la selezione dei dati: <br><br>\n",
    "    \n",
    "<li>loc[row_label, column_label]</li>\n",
    "<li>iloc[row_position, column_position]</li>\n",
    "</ul>"
   ]
  },
  {
   "cell_type": "markdown",
   "metadata": {},
   "source": [
    "<img src=\"https://miro.medium.com/max/1050/1*CgAWzayEQY8PQuMpRkSGfQ.png\" alt=\"500\" width=\"650\" align=\"left\"/>"
   ]
  },
  {
   "cell_type": "code",
   "execution_count": null,
   "metadata": {},
   "outputs": [],
   "source": [
    "data = {\n",
    "  \"calories\": [420, 380, 390,1,2,3,4,5,6,7,8,9,10],\n",
    "  \"duration\": [50, 40, 45,1,2,3,4,5,6,7,8,9,10]\n",
    "}\n",
    "\n",
    "#load data into a DataFrame object:\n",
    "df = pd.DataFrame(data)\n",
    "df.head(2)"
   ]
  },
  {
   "cell_type": "code",
   "execution_count": null,
   "metadata": {},
   "outputs": [],
   "source": [
    "df.iloc[0, :] #row selection by index [0,:] \":\" è implicito"
   ]
  },
  {
   "cell_type": "code",
   "execution_count": null,
   "metadata": {},
   "outputs": [],
   "source": [
    "df.iloc[0:4]"
   ]
  },
  {
   "cell_type": "code",
   "execution_count": null,
   "metadata": {},
   "outputs": [],
   "source": [
    "df.iloc[:, 0] #[row, col] -> column selection by index FIRST COLUMN, ALL ROWS"
   ]
  },
  {
   "cell_type": "code",
   "execution_count": null,
   "metadata": {},
   "outputs": [],
   "source": [
    "df.loc[0, 'Name'] #First row, COLUMN= 'Name'"
   ]
  },
  {
   "cell_type": "code",
   "execution_count": null,
   "metadata": {},
   "outputs": [],
   "source": [
    "df.loc[:,'Name'] #ALL ROWS, COLUMN= 'Name'"
   ]
  },
  {
   "cell_type": "markdown",
   "metadata": {},
   "source": [
    "<h1>Indici nominali</h1>\n",
    "Con l' index argomento puoi nominare i tuoi indici."
   ]
  },
  {
   "cell_type": "code",
   "execution_count": null,
   "metadata": {},
   "outputs": [],
   "source": [
    "data = {\n",
    "  \"calories\": [420, 380, 390],\n",
    "  \"duration\": [50, 40, 45]\n",
    "}\n",
    "\n",
    "df = pd.DataFrame(data, index = [\"day1\", \"day2\", \"day3\"])\n",
    "\n",
    "print(df) "
   ]
  },
  {
   "cell_type": "markdown",
   "metadata": {},
   "source": [
    "### ESEMPIO: <mark>ETICHETTA COME INDICE PRINCIPALE</mark>\n",
    "<img src=\"https://miro.medium.com/max/867/1*10_I9N1oqs8cNYVhTALS3w.png\" alt=\"500\" width=\"400\" align=\"left\"/>"
   ]
  },
  {
   "cell_type": "markdown",
   "metadata": {},
   "source": [
    "<h1>Individuare gli indici denominati</h1>\n",
    "Utilizzare l'indice denominato nell'attributo loc per restituire le righe specificate."
   ]
  },
  {
   "cell_type": "code",
   "execution_count": null,
   "metadata": {},
   "outputs": [],
   "source": [
    "#refer to the named index:\n",
    "print(df.loc[\"day2\"])"
   ]
  },
  {
   "cell_type": "markdown",
   "metadata": {},
   "source": [
    "<h1>Carica file in un DataFrame</h1>\n",
    "Se i tuoi set di dati sono archiviati in un file, Panda può caricarli in un DataFrame."
   ]
  },
  {
   "cell_type": "code",
   "execution_count": null,
   "metadata": {},
   "outputs": [],
   "source": [
    "import pandas as pd\n",
    "\n",
    "df = pd.read_csv('data.csv')\n",
    "\n",
    "print(df)\n",
    "\n",
    "#si può fare la stessa cosa con gli exel con il metodo .read_excel"
   ]
  },
  {
   "cell_type": "markdown",
   "metadata": {},
   "source": [
    "<h1>Come salvare i dataframe Pandas</h1>\n",
    "Il metodo .to_csv() è una funzione integrata in Pandas che consente di salvare un DataFrame Pandas come file CSV.\n",
    "\n",
    "La sintassi per l'utilizzo è la seguente:\n",
    "\n",
    "<h2>DataFrame.to_csv(filename, sep=',', index=False, encoding='utf-8')</h2>"
   ]
  },
  {
   "cell_type": "code",
   "execution_count": 27,
   "metadata": {},
   "outputs": [],
   "source": [
    "# Create a sample dataframe\n",
    "Biodata = {'Name': ['John', 'Emily', 'Mike', 'Lisa'],\n",
    "        'Age': [28, 23, 35, 31],\n",
    "        'Gender': ['M', 'F', 'M', 'F']\n",
    "        }\n",
    "df = pd.DataFrame(Biodata)\n",
    "\n",
    "# Save the dataframe to a CSV file\n",
    "df.to_csv('Biodata.csv', index=False)\n",
    "#si può fare la stessa cosa con gli exel con il metodo .to_excel"
   ]
  },
  {
   "cell_type": "markdown",
   "metadata": {},
   "source": [
    "## Metodo .apply()\n",
    "\n",
    "Pandas.apply() consente agli utenti di passare una funzione e applicarla su ogni singolo valore della serie Pandas. Si tratta di un metodo utilissimo poiché questa funzione aiuta a separare i dati in base alle condizioni richieste, grazie alle quali vengono utilizzati in modo efficiente nella scienza dei dati e nell'apprendimento automatico."
   ]
  },
  {
   "cell_type": "code",
   "execution_count": null,
   "metadata": {},
   "outputs": [],
   "source": [
    "import pandas as pd\n",
    "# Create a sample dataframe\n",
    "Biodata = {'Name': ['John', 'Emily', 'Mike', 'Lisa'],\n",
    "        'Age': [28, 23, 17, 31],\n",
    "        'Gender': ['M', 'F', 'M', 'F']\n",
    "        }\n",
    "df = pd.DataFrame(Biodata)\n",
    "\n",
    "# Create function\n",
    "def verify_adult(num):\n",
    "    if num<18:\n",
    "        return \"Underage\"\n",
    "    else:\n",
    "        return \"Adult\"\n",
    "\n",
    "# passing function to apply e create new column\n",
    "df['Adult'] = df['Age'].apply(verify_adult)\n",
    "\n",
    "\n",
    "df"
   ]
  },
  {
   "cell_type": "markdown",
   "metadata": {},
   "source": [
    "In questo modo abbiamo creato una nuova colonna che contiene i dati di age rielaborati dalla funzione di verifica. "
   ]
  },
  {
   "cell_type": "markdown",
   "metadata": {},
   "source": [
    "# Funzioni lambda\n",
    "E’ uno di quei concetti che crea confusione e che può risultare però utile in molti contesti, come per esempio nel caso in cui vogliamo applicare una funzione a un DataFrame Pandas.\n",
    "\n",
    "## Cos’è una Lambda Function in Python\n",
    "Una Lambda Function è una funzione anonima, ovvero una funzione a cui non è stato assegnato un nome e che serve per utilizzare le caratteristiche delle funzioni senza però doverle definire.\n",
    "\n",
    "Sì, avete capito bene: possiamo utilizzare una funzione senza definirla.\n",
    "\n",
    "## Differenza tra funzioni normali e Lambda"
   ]
  },
  {
   "cell_type": "code",
   "execution_count": null,
   "metadata": {},
   "outputs": [],
   "source": [
    "#funzione normale\n",
    "def quadrato(x):\n",
    "    return x * x\n",
    "\n",
    "#funzione lambda\n",
    "quadrato_lambda = lambda x : x * x\n",
    "                 #lambda argomento: espressione\n",
    "\n",
    "#Per esegurle si richiamano allo stesso modo\n",
    "quadrato(5)\n",
    "quadrato_lambda(5)\n",
    "\n",
    "\"\"\"\n",
    "Abbiamo però un metodo ancora più compatto per utilizzare \n",
    "funzione lambda\n",
    "\"\"\"\n",
    "(lambda x : x * x)(5)"
   ]
  },
  {
   "cell_type": "markdown",
   "metadata": {},
   "source": [
    "Quest'ultimo caso è il caso tipico per cui è stato creato questo costrutto.\n",
    "\n",
    "Lambda infatti non è il nome della funzione, è una keyword di Python, noi infatti con lambda usiamo una funzione senza assegnarli un nome, quindi quando ci serve una funzione temporanea che non riutilizzeremo.\n",
    "\n",
    "L’argomento è sempre x, come nel caso della funzione che abbiamo definito nel metodo tradizionale, ma in questo caso sta dopo “lambda” e alla sinistra dei due punti (:). Qualora ci fossero stati più argomenti, andavano tutti dopo “lambda” alla sinistra dei due punti separati da virgole.\n",
    "\n",
    "Solitamente con le funzioni tradizionali abbiamo un return, ovvero il valore che la nostra funzione dovrà restituirci. Nel caso delle lambda invece, ciò che ci verrà ritornato sta alla destra dei due punti."
   ]
  },
  {
   "cell_type": "markdown",
   "metadata": {},
   "source": [
    "## Perché utilizzare le Lambda Function\n",
    "\n",
    "1) Primo esempio di utilizzo in cui sono molto utili è la definizione di una funzione all'interno di un'altra funzione:\n"
   ]
  },
  {
   "cell_type": "code",
   "execution_count": 30,
   "metadata": {},
   "outputs": [],
   "source": [
    "def myfunz(n):\n",
    "    return lambda a : a * n\n",
    "\n",
    "# Definisco funzione raddoppia\n",
    "raddoppia = myfunz(2)\n",
    "\n",
    "# Definisco funzione triplica\n",
    "triplica = myfunz(3)"
   ]
  },
  {
   "cell_type": "markdown",
   "metadata": {},
   "source": [
    "Quando utilizzo la funzione raddoppia python considera n=2, quindi se la richiamo:"
   ]
  },
  {
   "cell_type": "code",
   "execution_count": null,
   "metadata": {},
   "outputs": [],
   "source": [
    "print(raddoppia(5))"
   ]
  },
  {
   "cell_type": "markdown",
   "metadata": {},
   "source": [
    "Quando utilizzo la funzione triplica, python considera n=3, quindi se la richiamo:"
   ]
  },
  {
   "cell_type": "code",
   "execution_count": null,
   "metadata": {},
   "outputs": [],
   "source": [
    "print(triplica(5))"
   ]
  },
  {
   "cell_type": "markdown",
   "metadata": {},
   "source": [
    "Naturalmente una funzione lambda può accettare anche più di un parametro:"
   ]
  },
  {
   "cell_type": "code",
   "execution_count": null,
   "metadata": {},
   "outputs": [],
   "source": [
    "#definizione funzione\n",
    "z = lambda x,y : x*y + 1\n",
    "\n",
    "print(z(2,3))"
   ]
  },
  {
   "cell_type": "markdown",
   "metadata": {},
   "source": [
    "2) Secondo caso d'uso in cui le lambda ci semplificano la vita è appunto quando ci serve una funzione temporanea, può capitare questa cosa in pandas?\n",
    "\n",
    "Pensate all'esempio visto in precedenza con .apply(), con le lambda potremmo riprodurlo così:\n"
   ]
  },
  {
   "cell_type": "code",
   "execution_count": null,
   "metadata": {},
   "outputs": [],
   "source": [
    "import pandas as pd\n",
    "\n",
    "# Create a sample dataframe\n",
    "Biodata = {'Name': ['John', 'Emily', 'Mike', 'Lisa'],\n",
    "        'Age': [28, 23, 17, 31],\n",
    "        'Gender': ['M', 'F', 'M', 'F']\n",
    "        }\n",
    "df = pd.DataFrame(Biodata)\n",
    "\n",
    "# pass function to apply e create new column\n",
    "df['Adult'] = df['Age'].apply(lambda x : \"Underage\" if x <18 else \"Adult\")\n",
    "\n",
    "print(df)"
   ]
  },
  {
   "cell_type": "markdown",
   "metadata": {},
   "source": [
    "Meno codice scritto e in questo modo creare una nuova colonna con .apply() diventa ancora più semplice, a maggior ragione sapendo che quella funzione specifica non ci riservirà più nel nostro codice."
   ]
  },
  {
   "cell_type": "markdown",
   "metadata": {},
   "source": [
    "## Quando non sono utili le lambda\n",
    "\n",
    "L’utilizzo delle lambda functions in Python non è sempre la scelta giusta da compiere, vediamo i motivi:\n",
    "\n",
    "- Può compiere una sola espressione, non è possibile inserire operazioni multiple in una funzione di questo tipo.\n",
    "\n",
    "- Non è possibile inserire al suo interno dei commenti che possono agevolarne la comprensione.\n",
    "\n",
    "- Anche se possono essere utilizzate come le funzione normali, come detto il loro caso d'uso ottimale è quando ci serve una funzione temporanea che non riutilizzeremo."
   ]
  },
  {
   "cell_type": "markdown",
   "metadata": {},
   "source": [
    "## <mark>Esercizio1</mark>\n",
    "<h4>Create un DataFrame sulla base di un elenco di almeno 10 clienti forniti dall'utente tramite input e salvatelo in formato csv.\n",
    "Per ogni cliente verranno forniti:</h4>\n",
    "<ul>\n",
    "<li>Numero Cliente, Nome, Cognome, Data di Nascita, Regione di Residenza.</li>\n",
    "<ul>\n"
   ]
  },
  {
   "cell_type": "code",
   "execution_count": 2,
   "metadata": {},
   "outputs": [],
   "source": [
    "import pandas as pd\n",
    "\n",
    "cliente = {'Numero Cliente':[0,1,2,3,4]\n",
    "           , 'Nome':['Aldo', 'Giovanni', 'Giacomo', 'Giuseppe', 'Alessandro'], \n",
    "           'Cognome':['Baglio', 'Storti', 'Poretti', 'Rossi', 'Verdi'], \n",
    "           'Data di Nascita':['10/05/1999', '05/03/1945', '17/06/1989', '15/03/2018', '12/01/2021'],\n",
    "            'Regione di Residenza':['ER', 'CAL', 'CAM', 'TRE', 'LOM']}\n",
    "'''\n",
    "for index in range(10):\n",
    "    for key in cliente:\n",
    "        value = input(f'Inserisci {key} ')\n",
    "        cliente[key].append(value)\n",
    "'''\n",
    "data_frame = pd.DataFrame(cliente)\n",
    "data_frame.to_csv('client.csv', index=False)"
   ]
  },
  {
   "cell_type": "markdown",
   "metadata": {},
   "source": [
    "## <mark>Esercizio2</mark>\n",
    "<h4>Partendo dal dataframe creato nell'esercizio precedente, aggiungete 3 colonne:</h4>\n",
    "<ul>\n",
    "<li>La prima contiene una X in corrispondenza dei clienti minorenni;</li>\n",
    "<li>La seconda contiene una X in corrispondenza dei clienti con età maggiore di 17 anni;</li>\n",
    "<li>La terza contiene una X in corrispondenza dei clienti con età maggiore di 20 anni.</li>\n",
    "<ul>\n"
   ]
  },
  {
   "cell_type": "code",
   "execution_count": 9,
   "metadata": {},
   "outputs": [
    {
     "ename": "TypeError",
     "evalue": "'<' not supported between instances of 'datetime.timedelta' and 'int'",
     "output_type": "error",
     "traceback": [
      "\u001b[1;31m---------------------------------------------------------------------------\u001b[0m",
      "\u001b[1;31mTypeError\u001b[0m                                 Traceback (most recent call last)",
      "Cell \u001b[1;32mIn[9], line 12\u001b[0m\n\u001b[0;32m      9\u001b[0m     years \u001b[38;5;241m=\u001b[39m (today \u001b[38;5;241m-\u001b[39m day) \u001b[38;5;241m/\u001b[39m \u001b[38;5;241m365\u001b[39m\n\u001b[0;32m     10\u001b[0m     \u001b[38;5;28;01mreturn\u001b[39;00m years\n\u001b[1;32m---> 12\u001b[0m clienti[\u001b[38;5;124m'\u001b[39m\u001b[38;5;124mMinorenne\u001b[39m\u001b[38;5;124m'\u001b[39m] \u001b[38;5;241m=\u001b[39m \u001b[43mclienti\u001b[49m\u001b[43m[\u001b[49m\u001b[38;5;124;43m'\u001b[39;49m\u001b[38;5;124;43mData di Nascita\u001b[39;49m\u001b[38;5;124;43m'\u001b[39;49m\u001b[43m]\u001b[49m\u001b[38;5;241;43m.\u001b[39;49m\u001b[43mapply\u001b[49m\u001b[43m(\u001b[49m\u001b[38;5;28;43;01mlambda\u001b[39;49;00m\u001b[43m \u001b[49m\u001b[43mx\u001b[49m\u001b[43m \u001b[49m\u001b[43m:\u001b[49m\u001b[43m \u001b[49m\u001b[38;5;124;43m'\u001b[39;49m\u001b[38;5;124;43mX\u001b[39;49m\u001b[38;5;124;43m'\u001b[39;49m\u001b[43m \u001b[49m\u001b[38;5;28;43;01mif\u001b[39;49;00m\u001b[43m \u001b[49m\u001b[43mcalcolo_anni\u001b[49m\u001b[43m(\u001b[49m\u001b[43mx\u001b[49m\u001b[43m)\u001b[49m\u001b[43m \u001b[49m\u001b[38;5;241;43m<\u001b[39;49m\u001b[43m \u001b[49m\u001b[38;5;241;43m18\u001b[39;49m\u001b[43m \u001b[49m\u001b[38;5;28;43;01melse\u001b[39;49;00m\u001b[43m \u001b[49m\u001b[38;5;124;43m'\u001b[39;49m\u001b[38;5;124;43m'\u001b[39;49m\u001b[43m)\u001b[49m\n\u001b[0;32m     13\u001b[0m clienti[\u001b[38;5;124m'\u001b[39m\u001b[38;5;124m> 17 anni\u001b[39m\u001b[38;5;124m'\u001b[39m] \u001b[38;5;241m=\u001b[39m clienti[\u001b[38;5;124m'\u001b[39m\u001b[38;5;124mData di Nascita\u001b[39m\u001b[38;5;124m'\u001b[39m]\u001b[38;5;241m.\u001b[39mapply(\u001b[38;5;28;01mlambda\u001b[39;00m x : \u001b[38;5;124m'\u001b[39m\u001b[38;5;124mX\u001b[39m\u001b[38;5;124m'\u001b[39m \u001b[38;5;28;01mif\u001b[39;00m calcolo_anni(x) \u001b[38;5;241m>\u001b[39m \u001b[38;5;241m17\u001b[39m \u001b[38;5;28;01melse\u001b[39;00m \u001b[38;5;124m'\u001b[39m\u001b[38;5;124m'\u001b[39m)\n\u001b[0;32m     14\u001b[0m clienti[\u001b[38;5;124m'\u001b[39m\u001b[38;5;124m> 20 anni\u001b[39m\u001b[38;5;124m'\u001b[39m] \u001b[38;5;241m=\u001b[39m clienti[\u001b[38;5;124m'\u001b[39m\u001b[38;5;124mData di Nascita\u001b[39m\u001b[38;5;124m'\u001b[39m]\u001b[38;5;241m.\u001b[39mapply(\u001b[38;5;28;01mlambda\u001b[39;00m x : \u001b[38;5;124m'\u001b[39m\u001b[38;5;124mX\u001b[39m\u001b[38;5;124m'\u001b[39m \u001b[38;5;28;01mif\u001b[39;00m calcolo_anni(x) \u001b[38;5;241m>\u001b[39m \u001b[38;5;241m20\u001b[39m \u001b[38;5;28;01melse\u001b[39;00m \u001b[38;5;124m'\u001b[39m\u001b[38;5;124m'\u001b[39m)\n",
      "File \u001b[1;32m~\\AppData\\Local\\Packages\\PythonSoftwareFoundation.Python.3.11_qbz5n2kfra8p0\\LocalCache\\local-packages\\Python311\\site-packages\\pandas\\core\\series.py:4924\u001b[0m, in \u001b[0;36mSeries.apply\u001b[1;34m(self, func, convert_dtype, args, by_row, **kwargs)\u001b[0m\n\u001b[0;32m   4789\u001b[0m \u001b[38;5;28;01mdef\u001b[39;00m \u001b[38;5;21mapply\u001b[39m(\n\u001b[0;32m   4790\u001b[0m     \u001b[38;5;28mself\u001b[39m,\n\u001b[0;32m   4791\u001b[0m     func: AggFuncType,\n\u001b[1;32m   (...)\u001b[0m\n\u001b[0;32m   4796\u001b[0m     \u001b[38;5;241m*\u001b[39m\u001b[38;5;241m*\u001b[39mkwargs,\n\u001b[0;32m   4797\u001b[0m ) \u001b[38;5;241m-\u001b[39m\u001b[38;5;241m>\u001b[39m DataFrame \u001b[38;5;241m|\u001b[39m Series:\n\u001b[0;32m   4798\u001b[0m \u001b[38;5;250m    \u001b[39m\u001b[38;5;124;03m\"\"\"\u001b[39;00m\n\u001b[0;32m   4799\u001b[0m \u001b[38;5;124;03m    Invoke function on values of Series.\u001b[39;00m\n\u001b[0;32m   4800\u001b[0m \n\u001b[1;32m   (...)\u001b[0m\n\u001b[0;32m   4915\u001b[0m \u001b[38;5;124;03m    dtype: float64\u001b[39;00m\n\u001b[0;32m   4916\u001b[0m \u001b[38;5;124;03m    \"\"\"\u001b[39;00m\n\u001b[0;32m   4917\u001b[0m     \u001b[38;5;28;01mreturn\u001b[39;00m \u001b[43mSeriesApply\u001b[49m\u001b[43m(\u001b[49m\n\u001b[0;32m   4918\u001b[0m \u001b[43m        \u001b[49m\u001b[38;5;28;43mself\u001b[39;49m\u001b[43m,\u001b[49m\n\u001b[0;32m   4919\u001b[0m \u001b[43m        \u001b[49m\u001b[43mfunc\u001b[49m\u001b[43m,\u001b[49m\n\u001b[0;32m   4920\u001b[0m \u001b[43m        \u001b[49m\u001b[43mconvert_dtype\u001b[49m\u001b[38;5;241;43m=\u001b[39;49m\u001b[43mconvert_dtype\u001b[49m\u001b[43m,\u001b[49m\n\u001b[0;32m   4921\u001b[0m \u001b[43m        \u001b[49m\u001b[43mby_row\u001b[49m\u001b[38;5;241;43m=\u001b[39;49m\u001b[43mby_row\u001b[49m\u001b[43m,\u001b[49m\n\u001b[0;32m   4922\u001b[0m \u001b[43m        \u001b[49m\u001b[43margs\u001b[49m\u001b[38;5;241;43m=\u001b[39;49m\u001b[43margs\u001b[49m\u001b[43m,\u001b[49m\n\u001b[0;32m   4923\u001b[0m \u001b[43m        \u001b[49m\u001b[43mkwargs\u001b[49m\u001b[38;5;241;43m=\u001b[39;49m\u001b[43mkwargs\u001b[49m\u001b[43m,\u001b[49m\n\u001b[1;32m-> 4924\u001b[0m \u001b[43m    \u001b[49m\u001b[43m)\u001b[49m\u001b[38;5;241;43m.\u001b[39;49m\u001b[43mapply\u001b[49m\u001b[43m(\u001b[49m\u001b[43m)\u001b[49m\n",
      "File \u001b[1;32m~\\AppData\\Local\\Packages\\PythonSoftwareFoundation.Python.3.11_qbz5n2kfra8p0\\LocalCache\\local-packages\\Python311\\site-packages\\pandas\\core\\apply.py:1427\u001b[0m, in \u001b[0;36mSeriesApply.apply\u001b[1;34m(self)\u001b[0m\n\u001b[0;32m   1424\u001b[0m     \u001b[38;5;28;01mreturn\u001b[39;00m \u001b[38;5;28mself\u001b[39m\u001b[38;5;241m.\u001b[39mapply_compat()\n\u001b[0;32m   1426\u001b[0m \u001b[38;5;66;03m# self.func is Callable\u001b[39;00m\n\u001b[1;32m-> 1427\u001b[0m \u001b[38;5;28;01mreturn\u001b[39;00m \u001b[38;5;28;43mself\u001b[39;49m\u001b[38;5;241;43m.\u001b[39;49m\u001b[43mapply_standard\u001b[49m\u001b[43m(\u001b[49m\u001b[43m)\u001b[49m\n",
      "File \u001b[1;32m~\\AppData\\Local\\Packages\\PythonSoftwareFoundation.Python.3.11_qbz5n2kfra8p0\\LocalCache\\local-packages\\Python311\\site-packages\\pandas\\core\\apply.py:1507\u001b[0m, in \u001b[0;36mSeriesApply.apply_standard\u001b[1;34m(self)\u001b[0m\n\u001b[0;32m   1501\u001b[0m \u001b[38;5;66;03m# row-wise access\u001b[39;00m\n\u001b[0;32m   1502\u001b[0m \u001b[38;5;66;03m# apply doesn't have a `na_action` keyword and for backward compat reasons\u001b[39;00m\n\u001b[0;32m   1503\u001b[0m \u001b[38;5;66;03m# we need to give `na_action=\"ignore\"` for categorical data.\u001b[39;00m\n\u001b[0;32m   1504\u001b[0m \u001b[38;5;66;03m# TODO: remove the `na_action=\"ignore\"` when that default has been changed in\u001b[39;00m\n\u001b[0;32m   1505\u001b[0m \u001b[38;5;66;03m#  Categorical (GH51645).\u001b[39;00m\n\u001b[0;32m   1506\u001b[0m action \u001b[38;5;241m=\u001b[39m \u001b[38;5;124m\"\u001b[39m\u001b[38;5;124mignore\u001b[39m\u001b[38;5;124m\"\u001b[39m \u001b[38;5;28;01mif\u001b[39;00m \u001b[38;5;28misinstance\u001b[39m(obj\u001b[38;5;241m.\u001b[39mdtype, CategoricalDtype) \u001b[38;5;28;01melse\u001b[39;00m \u001b[38;5;28;01mNone\u001b[39;00m\n\u001b[1;32m-> 1507\u001b[0m mapped \u001b[38;5;241m=\u001b[39m \u001b[43mobj\u001b[49m\u001b[38;5;241;43m.\u001b[39;49m\u001b[43m_map_values\u001b[49m\u001b[43m(\u001b[49m\n\u001b[0;32m   1508\u001b[0m \u001b[43m    \u001b[49m\u001b[43mmapper\u001b[49m\u001b[38;5;241;43m=\u001b[39;49m\u001b[43mcurried\u001b[49m\u001b[43m,\u001b[49m\u001b[43m \u001b[49m\u001b[43mna_action\u001b[49m\u001b[38;5;241;43m=\u001b[39;49m\u001b[43maction\u001b[49m\u001b[43m,\u001b[49m\u001b[43m \u001b[49m\u001b[43mconvert\u001b[49m\u001b[38;5;241;43m=\u001b[39;49m\u001b[38;5;28;43mself\u001b[39;49m\u001b[38;5;241;43m.\u001b[39;49m\u001b[43mconvert_dtype\u001b[49m\n\u001b[0;32m   1509\u001b[0m \u001b[43m\u001b[49m\u001b[43m)\u001b[49m\n\u001b[0;32m   1511\u001b[0m \u001b[38;5;28;01mif\u001b[39;00m \u001b[38;5;28mlen\u001b[39m(mapped) \u001b[38;5;129;01mand\u001b[39;00m \u001b[38;5;28misinstance\u001b[39m(mapped[\u001b[38;5;241m0\u001b[39m], ABCSeries):\n\u001b[0;32m   1512\u001b[0m     \u001b[38;5;66;03m# GH#43986 Need to do list(mapped) in order to get treated as nested\u001b[39;00m\n\u001b[0;32m   1513\u001b[0m     \u001b[38;5;66;03m#  See also GH#25959 regarding EA support\u001b[39;00m\n\u001b[0;32m   1514\u001b[0m     \u001b[38;5;28;01mreturn\u001b[39;00m obj\u001b[38;5;241m.\u001b[39m_constructor_expanddim(\u001b[38;5;28mlist\u001b[39m(mapped), index\u001b[38;5;241m=\u001b[39mobj\u001b[38;5;241m.\u001b[39mindex)\n",
      "File \u001b[1;32m~\\AppData\\Local\\Packages\\PythonSoftwareFoundation.Python.3.11_qbz5n2kfra8p0\\LocalCache\\local-packages\\Python311\\site-packages\\pandas\\core\\base.py:921\u001b[0m, in \u001b[0;36mIndexOpsMixin._map_values\u001b[1;34m(self, mapper, na_action, convert)\u001b[0m\n\u001b[0;32m    918\u001b[0m \u001b[38;5;28;01mif\u001b[39;00m \u001b[38;5;28misinstance\u001b[39m(arr, ExtensionArray):\n\u001b[0;32m    919\u001b[0m     \u001b[38;5;28;01mreturn\u001b[39;00m arr\u001b[38;5;241m.\u001b[39mmap(mapper, na_action\u001b[38;5;241m=\u001b[39mna_action)\n\u001b[1;32m--> 921\u001b[0m \u001b[38;5;28;01mreturn\u001b[39;00m \u001b[43malgorithms\u001b[49m\u001b[38;5;241;43m.\u001b[39;49m\u001b[43mmap_array\u001b[49m\u001b[43m(\u001b[49m\u001b[43marr\u001b[49m\u001b[43m,\u001b[49m\u001b[43m \u001b[49m\u001b[43mmapper\u001b[49m\u001b[43m,\u001b[49m\u001b[43m \u001b[49m\u001b[43mna_action\u001b[49m\u001b[38;5;241;43m=\u001b[39;49m\u001b[43mna_action\u001b[49m\u001b[43m,\u001b[49m\u001b[43m \u001b[49m\u001b[43mconvert\u001b[49m\u001b[38;5;241;43m=\u001b[39;49m\u001b[43mconvert\u001b[49m\u001b[43m)\u001b[49m\n",
      "File \u001b[1;32m~\\AppData\\Local\\Packages\\PythonSoftwareFoundation.Python.3.11_qbz5n2kfra8p0\\LocalCache\\local-packages\\Python311\\site-packages\\pandas\\core\\algorithms.py:1743\u001b[0m, in \u001b[0;36mmap_array\u001b[1;34m(arr, mapper, na_action, convert)\u001b[0m\n\u001b[0;32m   1741\u001b[0m values \u001b[38;5;241m=\u001b[39m arr\u001b[38;5;241m.\u001b[39mastype(\u001b[38;5;28mobject\u001b[39m, copy\u001b[38;5;241m=\u001b[39m\u001b[38;5;28;01mFalse\u001b[39;00m)\n\u001b[0;32m   1742\u001b[0m \u001b[38;5;28;01mif\u001b[39;00m na_action \u001b[38;5;129;01mis\u001b[39;00m \u001b[38;5;28;01mNone\u001b[39;00m:\n\u001b[1;32m-> 1743\u001b[0m     \u001b[38;5;28;01mreturn\u001b[39;00m \u001b[43mlib\u001b[49m\u001b[38;5;241;43m.\u001b[39;49m\u001b[43mmap_infer\u001b[49m\u001b[43m(\u001b[49m\u001b[43mvalues\u001b[49m\u001b[43m,\u001b[49m\u001b[43m \u001b[49m\u001b[43mmapper\u001b[49m\u001b[43m,\u001b[49m\u001b[43m \u001b[49m\u001b[43mconvert\u001b[49m\u001b[38;5;241;43m=\u001b[39;49m\u001b[43mconvert\u001b[49m\u001b[43m)\u001b[49m\n\u001b[0;32m   1744\u001b[0m \u001b[38;5;28;01melse\u001b[39;00m:\n\u001b[0;32m   1745\u001b[0m     \u001b[38;5;28;01mreturn\u001b[39;00m lib\u001b[38;5;241m.\u001b[39mmap_infer_mask(\n\u001b[0;32m   1746\u001b[0m         values, mapper, mask\u001b[38;5;241m=\u001b[39misna(values)\u001b[38;5;241m.\u001b[39mview(np\u001b[38;5;241m.\u001b[39muint8), convert\u001b[38;5;241m=\u001b[39mconvert\n\u001b[0;32m   1747\u001b[0m     )\n",
      "File \u001b[1;32mlib.pyx:2972\u001b[0m, in \u001b[0;36mpandas._libs.lib.map_infer\u001b[1;34m()\u001b[0m\n",
      "Cell \u001b[1;32mIn[9], line 12\u001b[0m, in \u001b[0;36m<lambda>\u001b[1;34m(x)\u001b[0m\n\u001b[0;32m      9\u001b[0m     years \u001b[38;5;241m=\u001b[39m (today \u001b[38;5;241m-\u001b[39m day) \u001b[38;5;241m/\u001b[39m \u001b[38;5;241m365\u001b[39m\n\u001b[0;32m     10\u001b[0m     \u001b[38;5;28;01mreturn\u001b[39;00m years\n\u001b[1;32m---> 12\u001b[0m clienti[\u001b[38;5;124m'\u001b[39m\u001b[38;5;124mMinorenne\u001b[39m\u001b[38;5;124m'\u001b[39m] \u001b[38;5;241m=\u001b[39m clienti[\u001b[38;5;124m'\u001b[39m\u001b[38;5;124mData di Nascita\u001b[39m\u001b[38;5;124m'\u001b[39m]\u001b[38;5;241m.\u001b[39mapply(\u001b[38;5;28;01mlambda\u001b[39;00m x : \u001b[38;5;124m'\u001b[39m\u001b[38;5;124mX\u001b[39m\u001b[38;5;124m'\u001b[39m \u001b[38;5;28;01mif\u001b[39;00m \u001b[43mcalcolo_anni\u001b[49m\u001b[43m(\u001b[49m\u001b[43mx\u001b[49m\u001b[43m)\u001b[49m\u001b[43m \u001b[49m\u001b[38;5;241;43m<\u001b[39;49m\u001b[43m \u001b[49m\u001b[38;5;241;43m18\u001b[39;49m \u001b[38;5;28;01melse\u001b[39;00m \u001b[38;5;124m'\u001b[39m\u001b[38;5;124m'\u001b[39m)\n\u001b[0;32m     13\u001b[0m clienti[\u001b[38;5;124m'\u001b[39m\u001b[38;5;124m> 17 anni\u001b[39m\u001b[38;5;124m'\u001b[39m] \u001b[38;5;241m=\u001b[39m clienti[\u001b[38;5;124m'\u001b[39m\u001b[38;5;124mData di Nascita\u001b[39m\u001b[38;5;124m'\u001b[39m]\u001b[38;5;241m.\u001b[39mapply(\u001b[38;5;28;01mlambda\u001b[39;00m x : \u001b[38;5;124m'\u001b[39m\u001b[38;5;124mX\u001b[39m\u001b[38;5;124m'\u001b[39m \u001b[38;5;28;01mif\u001b[39;00m calcolo_anni(x) \u001b[38;5;241m>\u001b[39m \u001b[38;5;241m17\u001b[39m \u001b[38;5;28;01melse\u001b[39;00m \u001b[38;5;124m'\u001b[39m\u001b[38;5;124m'\u001b[39m)\n\u001b[0;32m     14\u001b[0m clienti[\u001b[38;5;124m'\u001b[39m\u001b[38;5;124m> 20 anni\u001b[39m\u001b[38;5;124m'\u001b[39m] \u001b[38;5;241m=\u001b[39m clienti[\u001b[38;5;124m'\u001b[39m\u001b[38;5;124mData di Nascita\u001b[39m\u001b[38;5;124m'\u001b[39m]\u001b[38;5;241m.\u001b[39mapply(\u001b[38;5;28;01mlambda\u001b[39;00m x : \u001b[38;5;124m'\u001b[39m\u001b[38;5;124mX\u001b[39m\u001b[38;5;124m'\u001b[39m \u001b[38;5;28;01mif\u001b[39;00m calcolo_anni(x) \u001b[38;5;241m>\u001b[39m \u001b[38;5;241m20\u001b[39m \u001b[38;5;28;01melse\u001b[39;00m \u001b[38;5;124m'\u001b[39m\u001b[38;5;124m'\u001b[39m)\n",
      "\u001b[1;31mTypeError\u001b[0m: '<' not supported between instances of 'datetime.timedelta' and 'int'"
     ]
    }
   ],
   "source": [
    "import datetime\n",
    "import pandas as pd\n",
    "\n",
    "clienti = pd.read_csv('client.csv')\n",
    "\n",
    "def calcolo_anni(date): #date è una stringa 'dd/mm/yyyy'\n",
    "    today = datetime.datetime.now()\n",
    "    day = datetime.datetime.strptime(date, '%d/%m/%Y')\n",
    "    years = today.year-day.year\n",
    "    return years\n",
    "\n",
    "clienti['Minorenne'] = clienti['Data di Nascita'].apply(lambda x : 'X' if calcolo_anni(x) < 18 else '')\n",
    "clienti['> 17 anni'] = clienti['Data di Nascita'].apply(lambda x : 'X' if calcolo_anni(x) > 17 else '')\n",
    "clienti['> 20 anni'] = clienti['Data di Nascita'].apply(lambda x : 'X' if calcolo_anni(x) > 20 else '')\n",
    "print(clienti)\n",
    "clienti.to_csv('client.csv', index=False)\n"
   ]
  },
  {
   "cell_type": "markdown",
   "metadata": {},
   "source": [
    "## <mark>Esercizio3</mark>\n",
    "<h4>Create un programma per la gestione di un'azienda che usa alcuni database csv creati con pandas, l'utente dovrà poter leggere, aggiungere, aggiornare e modificare i dati inseriti. I csv conterranno i seguenti dati:</h4>\n",
    "<ul>\n",
    "<li>Clienti (NumeroCliente, Nome, Cognome, DataNascita, RegioneResidenza);</li>\n",
    "\n",
    "<li>Fatture (NumeroFattura, Tipologia, Importo, Iva, IdCliente, DataFattura, NumeroFornitore);</li>\n",
    "\n",
    "<ul>\n",
    "<h4></h4>\n"
   ]
  },
  {
   "cell_type": "code",
   "execution_count": 7,
   "metadata": {},
   "outputs": [
    {
     "name": "stdout",
     "output_type": "stream",
     "text": [
      "File clienti aperto in lettura\n",
      "File fatture aperto in lettura\n",
      "   Numero Cliente        Nome  Cognome Data di Nascita Regione di Residenza  \\\n",
      "0               0        Aldo   Baglio      10/05/1999                   ER   \n",
      "1               1    Giovanni   Storti      05/03/1945                  CAL   \n",
      "2               2     Giacomo  Poretti      17/06/1989                  CAM   \n",
      "3               3    Giuseppe    Rossi      15/03/2018                  TRE   \n",
      "4               4  Alessandro    Verdi      12/01/2021                  LOM   \n",
      "\n",
      "  Minorenne > 17 anni > 20 anni  \n",
      "0       NaN         X         X  \n",
      "1       NaN         X         X  \n",
      "2       NaN         X         X  \n",
      "3         X       NaN       NaN  \n",
      "4         X       NaN       NaN  \n",
      "Empty DataFrame\n",
      "Columns: [NumeroFattura, Tipologia, Importo, Iva, IDcliente, DataFattura, NUmeroFornitore]\n",
      "Index: []\n"
     ]
    }
   ],
   "source": [
    "import pandas as pd\n",
    "\n",
    "def open_database(file):\n",
    "    database = pd.read_csv(file)\n",
    "    return database\n",
    "\n",
    "try:\n",
    "    file_clienti = open('client.csv', 'r')\n",
    "    print('File clienti aperto in lettura')\n",
    "except:\n",
    "    file_clienti = open('client.csv', 'x')\n",
    "    print('Creazione file clienti')\n",
    "try:\n",
    "    file_fatture = open('fatture.csv', 'r')\n",
    "    print('File fatture aperto in lettura')\n",
    "except:\n",
    "    file_fatture = open('fatture.csv', 'x')\n",
    "    file_fatture.close()\n",
    "    fatture = {'NumeroFattura':[],\n",
    "               'Tipologia':[],\n",
    "               'Importo':[],\n",
    "               'Iva':[],\n",
    "               'IDcliente':[],\n",
    "               'DataFattura':[],\n",
    "               'NUmeroFornitore':[]}\n",
    "    dataframe = pd.DataFrame(fatture)\n",
    "    dataframe.to_csv('fatture.csv', index = False)\n",
    "    print('Creazione file fatture')\n",
    "\n",
    "\n",
    "clienti = open_database(file_clienti)\n",
    "fatture = open_database(file_fatture)\n",
    "print(clienti)\n",
    "print(fatture)"
   ]
  },
  {
   "cell_type": "markdown",
   "metadata": {},
   "source": [
    "<h1>Pandas con esempio pratico DATASET Titanic</h1>"
   ]
  },
  {
   "cell_type": "code",
   "execution_count": null,
   "metadata": {},
   "outputs": [],
   "source": [
    "import numpy as np\n",
    "import pandas as pd #Load Pandas library"
   ]
  },
  {
   "cell_type": "code",
   "execution_count": null,
   "metadata": {
    "tags": [
     "challengify"
    ]
   },
   "outputs": [],
   "source": [
    "#https://www.kaggle.com/c/titanic/data\n",
    "#Load Dataset (read_csv(), function):\n",
    "\n",
    "df = pd.read_csv('titanic/train.csv')\n",
    "\n",
    "df"
   ]
  },
  {
   "cell_type": "code",
   "execution_count": null,
   "metadata": {},
   "outputs": [],
   "source": [
    "df.shape #attribute shape (nrows, ncolumns)"
   ]
  },
  {
   "cell_type": "markdown",
   "metadata": {},
   "source": [
    "**head() / tail()  :**\n",
    "\n",
    "head() : Return the first n rows. (5 by default)\n",
    "\n",
    "tail(): Return the last n rows. (5 by default)"
   ]
  },
  {
   "cell_type": "code",
   "execution_count": null,
   "metadata": {
    "tags": [
     "challengify"
    ]
   },
   "outputs": [],
   "source": [
    "df.head() #first 5 rows by DEFAULT"
   ]
  },
  {
   "cell_type": "code",
   "execution_count": null,
   "metadata": {},
   "outputs": [],
   "source": [
    "df.tail() #last 5 rows bt DEFAULT"
   ]
  },
  {
   "cell_type": "code",
   "execution_count": null,
   "metadata": {},
   "outputs": [],
   "source": [
    "df['Survived'] #Series"
   ]
  },
  {
   "cell_type": "code",
   "execution_count": null,
   "metadata": {},
   "outputs": [],
   "source": [
    "#Return a Series containing counts of unique values.\n",
    "\n",
    "#The resulting object will be in descending order.\n",
    "\n",
    "df['Survived'].value_counts()"
   ]
  },
  {
   "cell_type": "code",
   "execution_count": null,
   "metadata": {},
   "outputs": [],
   "source": [
    "df[['Name', 'Survived']] #Df Subset"
   ]
  },
  {
   "cell_type": "markdown",
   "metadata": {},
   "source": [
    "**describe():**\n",
    "    \n",
    "Generare statistiche descrittive.\n",
    "\n",
    "Le statistiche descrittive includono quelle che riassumono la tendenza centrale,\n",
    "dispersione e forma della distribuzione di un set di dati, esclusi i valori NaN."
   ]
  },
  {
   "cell_type": "code",
   "execution_count": null,
   "metadata": {},
   "outputs": [],
   "source": [
    "df.describe() "
   ]
  },
  {
   "cell_type": "code",
   "execution_count": null,
   "metadata": {},
   "outputs": [],
   "source": [
    "df.dtypes #attribute dtypes: Return the dtypes in the DataFrame."
   ]
  },
  {
   "cell_type": "code",
   "execution_count": null,
   "metadata": {
    "tags": [
     "delete"
    ]
   },
   "outputs": [],
   "source": [
    "df.isnull() #Detect missing values. "
   ]
  },
  {
   "cell_type": "code",
   "execution_count": null,
   "metadata": {},
   "outputs": [],
   "source": [
    "df.isnull().sum() #Sum null values"
   ]
  },
  {
   "cell_type": "markdown",
   "metadata": {},
   "source": [
    "Sembra che l'informazione \"Cabina\" manchi in 687 righe. Abbastanza normale considerando che le persone in 3a classe (\"Pclass\") non ne avevano una!\n",
    "\n",
    "❓ Utilizza la funzione [`pandas.DataFrame.drop`](https://pandas.pydata.org/pandas-docs/stable/reference/api/pandas.DataFrame.drop.html) per eliminare la `Cabin` in \"titanic_df\"."
   ]
  },
  {
   "cell_type": "code",
   "execution_count": null,
   "metadata": {
    "tags": [
     "challengify"
    ]
   },
   "outputs": [],
   "source": [
    "df.drop('Cabin', axis=1, inplace=True) "
   ]
  },
  {
   "cell_type": "code",
   "execution_count": null,
   "metadata": {},
   "outputs": [],
   "source": [
    "df.head()"
   ]
  },
  {
   "cell_type": "code",
   "execution_count": null,
   "metadata": {},
   "outputs": [],
   "source": [
    "#Other methods: \n",
    "\n",
    "#df= df.drop('Cabin', axis=1) \n",
    "\n",
    "#Drop more columns:\n",
    "    \n",
    "#df.drop(columns= [col1, col2], axis=1, inplace=True)"
   ]
  },
  {
   "cell_type": "code",
   "execution_count": null,
   "metadata": {},
   "outputs": [],
   "source": [
    "df= df.drop(columns=['Ticket', 'Embarked'], axis=1) #we also remove these 2 columns because we don't need them for now"
   ]
  },
  {
   "cell_type": "code",
   "execution_count": null,
   "metadata": {},
   "outputs": [],
   "source": [
    "df.head()"
   ]
  },
  {
   "cell_type": "markdown",
   "metadata": {},
   "source": [
    "**Correlation:**"
   ]
  },
  {
   "cell_type": "code",
   "execution_count": null,
   "metadata": {},
   "outputs": [],
   "source": [
    "df.corr()"
   ]
  },
  {
   "cell_type": "code",
   "execution_count": null,
   "metadata": {},
   "outputs": [],
   "source": [
    "import matplotlib.pyplot as plt\n",
    "import seaborn as sns\n",
    "\n",
    "corr = df.corr()\n",
    "\n",
    "fig, ax = plt.subplots(figsize=(16, 6))\n",
    "\n",
    "sns.heatmap(\n",
    "    corr, \n",
    "    vmin=-1, vmax=1, center=0, annot=True,\n",
    "    cmap=sns.diverging_palette(20, 220, n=200),\n",
    "    square=True\n",
    ")"
   ]
  },
  {
   "cell_type": "markdown",
   "metadata": {},
   "source": [
    "## <mark>Esercizio1</mark>\n",
    "<h4>Partendo da questo dataframe su kaggle https://www.kaggle.com/datasets/vikrishnan/boston-house-prices analizzate i dati, sistemate gli elementi mancanti e verificate se ci sono correlazioni e create un grafico a mappa di calore.</h4>\n",
    "\n",
    "\n"
   ]
  },
  {
   "cell_type": "markdown",
   "metadata": {},
   "source": [
    "## <mark>Esercizio2</mark>\n",
    "<h4>Partendo da questo dataframe su kaggle https://www.kaggle.com/datasets/shivamb/netflix-shows  analizzate i dati, sistemate gli elementi mancanti e verificate se ci sono correlazioni e create un grafico a mappa di calore.</h4>\n",
    "\n",
    "\n"
   ]
  },
  {
   "cell_type": "markdown",
   "metadata": {},
   "source": [
    "## <mark>GROUPBY()</mark>\n",
    "\n",
    "Un'operazione groupby implica una combinazione di suddivisione dell'oggetto, applicazione di una funzione e combinazione dei risultati.\n",
    "\n",
    "**Questo può essere utilizzato per raggruppare grandi quantità di dati e operazioni di calcolo su questi gruppi.**"
   ]
  },
  {
   "cell_type": "markdown",
   "metadata": {},
   "source": [
    "<img src=\"https://www.datasciencemadesimple.com/wp-content/uploads/2020/05/Generic-Groupby-mean-1.png\" alt=\"500\" width=\"850\" align=\"left\"/>"
   ]
  },
  {
   "cell_type": "markdown",
   "metadata": {},
   "source": [
    "## Analisi delle classi\n",
    "\n",
    "Diamo un'occhiata alla divisione dei biglietti.\n",
    "\n",
    "❓ Utilizzando un `groupby()`, crea un dataframe `pclass_df` contando il numero di biglietti venduti per classe (1, 2 o 3)"
   ]
  },
  {
   "cell_type": "code",
   "execution_count": null,
   "metadata": {},
   "outputs": [],
   "source": [
    "df.head()"
   ]
  },
  {
   "cell_type": "code",
   "execution_count": null,
   "metadata": {
    "tags": [
     "challengify"
    ]
   },
   "outputs": [],
   "source": [
    "#Quanti biglietti venduti per ogni classe?\n",
    "\n",
    "pclass_df = df.groupby(\"Pclass\").count()[\"PassengerId\"].to_frame(name=\"Biglietti venduti\")\n",
    "pclass_df"
   ]
  },
  {
   "cell_type": "markdown",
   "metadata": {},
   "source": [
    "Guardare il numero non è molto visivo, proviamo a dare un senso ai dati con un grafico.\n",
    "\n",
    "❓ Traccia il dataframe `pclass_df` creato nella domanda precedente come un grafico a barre"
   ]
  },
  {
   "cell_type": "markdown",
   "metadata": {},
   "source": [
    "**Pandas plot(): Make plots of Series or DataFrame.**"
   ]
  },
  {
   "cell_type": "code",
   "execution_count": null,
   "metadata": {
    "tags": [
     "challengify"
    ]
   },
   "outputs": [],
   "source": [
    "pclass_df.plot(kind=\"bar\")"
   ]
  },
  {
   "cell_type": "markdown",
   "metadata": {},
   "source": [
    "Diamo ora un'occhiata ai **sopravvissuti**.\n",
    "\n",
    "❓ Traccia un grafico a barre della *frequenza di sopravvivenza* per classe. \"0\" significa che nessuno è sopravvissuto nella classe, \"1\" significa che tutti sono sopravvissuti."
   ]
  },
  {
   "cell_type": "code",
   "execution_count": null,
   "metadata": {
    "tags": [
     "challengify"
    ]
   },
   "outputs": [],
   "source": [
    "#Quanti sopravvissuti per ogni classe?\n",
    "\n",
    "df_survived= df[[\"Pclass\",\"Survived\"]].groupby('Pclass').mean()\n",
    "df_survived"
   ]
  },
  {
   "cell_type": "code",
   "execution_count": null,
   "metadata": {},
   "outputs": [],
   "source": [
    "#reset_index():\n",
    "\n",
    "#Questa funzione reimposta e fornisce il nuovo indice ai frame di dati raggruppati per e li rende una struttura di frame di dati adeguata.\n",
    "\n",
    "df_survived_2= df[[\"Pclass\",\"Survived\"]].groupby('Pclass').mean().reset_index()\n",
    "df_survived_2"
   ]
  },
  {
   "cell_type": "code",
   "execution_count": null,
   "metadata": {},
   "outputs": [],
   "source": [
    "df_survived.plot(kind='bar')"
   ]
  },
  {
   "cell_type": "markdown",
   "metadata": {},
   "source": [
    "## Analisi di genere\n",
    "\n",
    "Diamo un'occhiata alla colonna \"Sesso\"."
   ]
  },
  {
   "cell_type": "markdown",
   "metadata": {},
   "source": [
    "❓ Traccia un grafico a barre della frequenza di sopravvivenza di ciascun genere. Chi è sopravvissuto di più?"
   ]
  },
  {
   "cell_type": "code",
   "execution_count": null,
   "metadata": {
    "tags": [
     "challengify"
    ]
   },
   "outputs": [],
   "source": [
    "df[['Survived', 'Sex']].groupby('Sex').mean().plot(kind='bar')"
   ]
  },
  {
   "cell_type": "markdown",
   "metadata": {},
   "source": [
    "Costruiamo un istogramma più elaborato in cui mostriamo il numero totale di passeggeri + il numero totale di sopravvissuti (per ciascun sesso).\n",
    "\n",
    "❓ Crea un DataFrame `survivors_df` con due colonne: `Total` e `Survived` e due righe (\"male` e `female`). Traccialo."
   ]
  },
  {
   "cell_type": "code",
   "execution_count": null,
   "metadata": {
    "tags": [
     "challengify"
    ]
   },
   "outputs": [],
   "source": [
    "survivors_df = df[['Survived', 'Sex']].groupby('Sex').sum() #SUM VALUES: 0 (NOT SURVIVED) , 1 (SURVIVED)\n",
    "survivors_df['Total'] = df[['Survived', 'Sex']].groupby('Sex').count() #COUNT TOTAL NUMBER OF PEOPLE PER CLASS (MALE,FEMALE)\n",
    "survivors_df.plot(kind='bar')"
   ]
  },
  {
   "cell_type": "code",
   "execution_count": null,
   "metadata": {},
   "outputs": [],
   "source": [
    "survivors_df['%']= (survivors_df['Survived']*100)/survivors_df['Total']\n",
    "survivors_df"
   ]
  },
  {
   "cell_type": "markdown",
   "metadata": {},
   "source": [
    "## <mark>Esercizio1</mark>\n",
    "<h4>Partendo dallo stesso Dataframe sulle case scaricato in precedenza, calcolate la media dei prezzi delle case raggruppati per zona e realizzate grafici esplicativi.</h4>"
   ]
  },
  {
   "cell_type": "markdown",
   "metadata": {},
   "source": [
    "## <mark>Esercizio2</mark>\n",
    "<h4>Partendo dallo stesso Dataframe Netflix scaricato in precedenza, calcolate la media della lunghezza dei prodotti ragguppati per serie e film e realizzate grafici esplicativi.</h4>"
   ]
  },
  {
   "cell_type": "markdown",
   "metadata": {},
   "source": [
    "## Bambini\n",
    "\n",
    "La prima analisi non teneva conto dell’età. Vogliamo distinguere tra un bambino e un adulto e vedere come vengono influenzati i tassi di sopravvivenza.\n",
    "\n",
    "❓ Utilizza l'indicizzazione booleana per creare un `children_df` contenente solo righe di passeggeri bambini"
   ]
  },
  {
   "cell_type": "code",
   "execution_count": null,
   "metadata": {
    "tags": [
     "challengify"
    ]
   },
   "outputs": [],
   "source": [
    "children_df = df[df['Age'] <= 17] #BOOLEAN INDEXING\n",
    "children_df.head()"
   ]
  },
  {
   "cell_type": "markdown",
   "metadata": {},
   "source": [
    "❓Quanti bambini c'erano nel Titanic?"
   ]
  },
  {
   "cell_type": "code",
   "execution_count": null,
   "metadata": {
    "tags": [
     "challengify"
    ]
   },
   "outputs": [],
   "source": [
    "total_children= children_df.shape[0] #number of rows\n",
    "total_children"
   ]
  },
  {
   "cell_type": "markdown",
   "metadata": {},
   "source": [
    "❓Quanti bambini sono sopravvissuti?"
   ]
  },
  {
   "cell_type": "code",
   "execution_count": null,
   "metadata": {
    "tags": [
     "challengify"
    ]
   },
   "outputs": [],
   "source": [
    "children_survived= children_df['Survived'].sum()\n",
    "children_survived"
   ]
  },
  {
   "cell_type": "markdown",
   "metadata": {},
   "source": [
    "❓ Traccia un grafico a barre dei sopravvissuti/totale per ciascuna categoria: \"maschio\", \"femmina\", \"bambini\". Tieni presente che devi **sottrarre** i ragazzi dalle statistiche \"maschili\" e le ragazze da quelle \"femminili\"."
   ]
  },
  {
   "cell_type": "code",
   "execution_count": null,
   "metadata": {},
   "outputs": [],
   "source": [
    "adults_df= df[df['Age'] > 17]\n",
    "adults_df= adults_df.rename(columns={'Sex': 'People'})\n",
    "\n",
    "survivors_df = adults_df[['Survived', 'People']].groupby('People').sum() #SUM VALUES: 0 (NOT SURVIVED) , 1 (SURVIVED)\n",
    "survivors_df['Total'] = adults_df[['Survived', 'People']].groupby('People').count() #COUNT TOTAL NUMBER OF PEOPLE PER CLASS (MALE,FEMALE)\n",
    "survivors_df['%']= (survivors_df['Survived']*100)/survivors_df['Total']\n",
    "survivors_df"
   ]
  },
  {
   "cell_type": "code",
   "execution_count": null,
   "metadata": {
    "tags": [
     "challengify"
    ]
   },
   "outputs": [],
   "source": [
    "#aggiungi colonna e valori dei dati Children a survival_df\n",
    "\n",
    "survivors_df.loc['children'] = [children_survived, total_children, (children_survived*100)/total_children ] \n",
    "survivors_df"
   ]
  },
  {
   "cell_type": "code",
   "execution_count": null,
   "metadata": {
    "tags": [
     "delete"
    ]
   },
   "outputs": [],
   "source": [
    "survivors_df[['Survived', 'Total']].plot(kind='bar')"
   ]
  },
  {
   "cell_type": "markdown",
   "metadata": {},
   "source": [
    "## Famiglie numerose:"
   ]
  },
  {
   "cell_type": "markdown",
   "metadata": {},
   "source": [
    "❓ Scoprire se per le famiglie più numerose è stato più difficile sopravvivere?\n",
    "  \n",
    "Qui crei una nuova colonna nel tuo `DataFrame` per la dimensione della famiglia del passeggero."
   ]
  },
  {
   "cell_type": "code",
   "execution_count": null,
   "metadata": {
    "tags": [
     "challengify"
    ]
   },
   "outputs": [],
   "source": [
    "df['family_size'] = 1 + df['SibSp'] + df['Parch']\n",
    "df.groupby('family_size').mean()['Survived'].plot(kind='bar');"
   ]
  },
  {
   "cell_type": "markdown",
   "metadata": {},
   "source": [
    "## Titoli illustri"
   ]
  },
  {
   "cell_type": "markdown",
   "metadata": {},
   "source": [
    "❓ Durante l'evacuazione sono stati preferiti i passeggeri con titoli illustri?\n",
    "   \n",
    "Con qualche manipolazione delle stringhe, crea una nuova colonna per ogni utente con il suo titolo"
   ]
  },
  {
   "cell_type": "code",
   "execution_count": null,
   "metadata": {},
   "outputs": [],
   "source": [
    "df.head()"
   ]
  },
  {
   "cell_type": "code",
   "execution_count": null,
   "metadata": {
    "tags": [
     "challengify"
    ]
   },
   "outputs": [],
   "source": [
    "#split(): divide una stringa in un elenco in cui ogni parola è un elemento dell'elenco\n",
    "#strip(): rimuove gli spazi all'inizio e alla fine della stringa:\n",
    "\n",
    "df['Title'] = df['Name'].apply(lambda x: x.split(',')[1].split('.')[0].strip())\n",
    "df"
   ]
  },
  {
   "cell_type": "code",
   "execution_count": null,
   "metadata": {},
   "outputs": [],
   "source": [
    "#logy= Use log scaling or symlog scaling on y axis. \n",
    "\n",
    "#Contiamo quante persone per \"Title\":\n",
    "\n",
    "df.groupby('Title').count()['PassengerId'].sort_values().plot(kind='bar', logy=True)"
   ]
  },
  {
   "cell_type": "code",
   "execution_count": null,
   "metadata": {
    "tags": [
     "delete"
    ]
   },
   "outputs": [],
   "source": [
    "#Quanti sopravvissuti per \"Title\":\n",
    "\n",
    "#1) Countess:Contessa\n",
    "#2) Mlle: Signorina\n",
    "#3)Lady: Signora\n",
    "#4)Ms: Non sposata\n",
    "#5)Sir: Signore\n",
    "#.....\n",
    "\n",
    "df.groupby('Title').mean()['Survived'].sort_values().plot(kind='bar')"
   ]
  },
  {
   "cell_type": "code",
   "execution_count": null,
   "metadata": {},
   "outputs": [],
   "source": [
    "df.groupby('Title').count()[['PassengerId']]"
   ]
  },
  {
   "cell_type": "markdown",
   "metadata": {},
   "source": [
    "## <mark>Esercizio1</mark>\n",
    "<h4>Partendo dal Dataframe delle Case scaricato in precedenza eseguite le seguenti analisi:</h4>\n",
    "\n",
    "- Concentrati sulle analisi temporali:\n",
    "    - Analizza come il prezzo di vendita delle case è cambiato nel tempo.\n",
    "    - Visualizza l'andamento temporale del prezzo di vendita utilizzando un grafico a linee.\n",
    "    - Esamina se ci sono correlazioni tra variabili temporali (ad esempio, anno di costruzione, anno di ristrutturazione, ecc.) e il prezzo di vendita.\n",
    "\n",
    "- Esplorazione delle relazioni tra categorie e prezzo di vendita:\n",
    "\n",
    "    - Esamina come il prezzo di vendita varia in base alle variabili categoriche come il tipo di strada, la forma del terreno, ecc.\n",
    "\n",
    "- Esplorazione delle caratteristiche di vendita:\n",
    "\n",
    "    - Analizza le caratteristiche di vendita (tempo di vendita, metodo di vendita, ecc.) e determina se influenzano il prezzo di vendita.\n",
    "\n",
    "- Analisi delle caratteristiche di località:\n",
    "\n",
    "    - Esplora le caratteristiche di località (quartiere, vicinato, ecc.) e analizza come influenzano il prezzo di vendita.\n",
    "\n"
   ]
  },
  {
   "cell_type": "markdown",
   "metadata": {},
   "source": [
    "## <mark>Esercizio2</mark>\n",
    "<h4>Partendo dal Dataframe Netflix scaricato in precedenza eseguite le seguenti analisi:</h4>\n",
    "\n",
    "- Analisi delle categorie di contenuto:\n",
    "\n",
    "    - Determina quali sono le categorie più popolari di film e spettacoli televisivi su Netflix.\n",
    "    - Calcola la distribuzione delle categorie di contenuto e visualizzale graficamente utilizzando un grafico a barre o un grafico a torta.\n",
    "\n",
    "- Esplorazione delle valutazioni:\n",
    "\n",
    "    - Analizza la distribuzione delle valutazioni dei film e degli spettacoli televisivi su Netflix.\n",
    "    - Visualizza la distribuzione delle valutazioni utilizzando un istogramma.\n",
    "\n",
    "- Correlazioni tra variabili:\n",
    "\n",
    "    - Esamina se esiste una correlazione tra il paese di produzione e il genere del contenuto su Netflix.\n",
    "    - Calcola la correlazione tra la valutazione e l'anno di pubblicazione dei contenuti.\n",
    "\n",
    "- Analisi temporale:\n",
    "\n",
    "    - Esplora le tendenze temporali dei contenuti su Netflix in base all'anno di pubblicazione.\n",
    "    - Visualizza l'andamento nel tempo del numero di contenuti pubblicati su Netflix utilizzando un grafico a linee.\n",
    "\n",
    "- Analisi della durata dei film e degli spettacoli televisivi:\n",
    "\n",
    "    - Calcola la durata media dei film e degli spettacoli televisivi su Netflix.\n",
    "    - Confronta la durata media dei film e degli spettacoli televisivi tra le diverse categorie di contenuto.\n",
    "\n",
    "- Analisi delle distribuzioni geografiche:\n",
    "\n",
    "    -  Esamina la distribuzione geografica dei contenuti su Netflix in base al paese di produzione.\n",
    "    - Visualizza la distribuzione geografica utilizzando una mappa o un grafico a barre.\n",
    "\n",
    "- Esplorazione delle serie TV:\n",
    "\n",
    "    - Analizza la distribuzione delle serie TV rispetto ai film su Netflix.\n",
    "    - Calcola la durata media delle serie TV e dei film e confrontali."
   ]
  },
  {
   "cell_type": "code",
   "execution_count": 1,
   "metadata": {},
   "outputs": [],
   "source": [
    "import pandas as pd\n",
    "from random import choice\n",
    "\n",
    "list_country = [\"Stati Uniti d'America\",\n",
    "\"Cina\",\"India\",\"Brasile\",\"Russia\",\"Giappone\",\n",
    "\"Germania\",\"Regno Unito\",\"Francia\",\"Italia\"]\n",
    "\n",
    "list_genere = [\"Azione\",\"Commedia\",\n",
    "\"Drammatico\",\"Horror\",\"Fantascienza\",\n",
    "\"Avventura\",\"Romantico\",\"Thriller\",\n",
    "\"Animazione\", \"Documentario\"]\n",
    "\n",
    "colonna_country = []\n",
    "colonna_genere = []\n",
    "\n",
    "for element in range(1000):\n",
    "    colonna_country.append(choice(list_country))\n",
    "    colonna_genere.append(choice(list_genere))\n",
    "\n",
    "colonna_genere[-1] = \"Azione\"\n",
    "\n"
   ]
  },
  {
   "cell_type": "code",
   "execution_count": 2,
   "metadata": {},
   "outputs": [],
   "source": [
    "i = 0\n",
    "list_fr = []\n",
    "list_br = []\n",
    "\n",
    "for element in colonna_country:\n",
    "    if element == \"Francia\":\n",
    "        list_fr.append(i)\n",
    "    elif element == \"Brasile\":\n",
    "        list_fr.append(i)\n",
    "    i +=1\n",
    "\n",
    "\n",
    "\n",
    "list_genere = [\"Azione\",\n",
    "\"Drammatico\",\"Horror\",\"Fantascienza\",\n",
    "\"Avventura\",\"Romantico\",\n",
    "\"Animazione\", \"Documentario\"]\n",
    "\n",
    "for element in list_fr:\n",
    "    colonna_genere[element] =choice(list_genere)\n",
    "\n",
    "for element in list_br:\n",
    "    colonna_genere[element] =choice(list_genere)"
   ]
  },
  {
   "cell_type": "code",
   "execution_count": null,
   "metadata": {},
   "outputs": [],
   "source": [
    "data = {\"paesi\": colonna_country, \"genere\":colonna_genere}\n",
    "\n",
    "df = pd.DataFrame(data)\n",
    "\n",
    "df"
   ]
  },
  {
   "cell_type": "code",
   "execution_count": null,
   "metadata": {},
   "outputs": [],
   "source": [
    "# Raggruppa i dati per paese e genere e conta le occorrenze\n",
    "country_genre_counts = df.groupby(['paesi', 'genere'])\n",
    "dizionario = {}\n",
    "for element in country_genre_counts:\n",
    "    dizionario[element[0][0]]= dizionario.setdefault(element[0][0],{})\n",
    "    dizionario[element[0][0]][element[0][1]]= len(element[1])\n",
    "\n",
    "generi = df['genere'].unique()\n",
    "\n",
    "dizionario\n"
   ]
  },
  {
   "cell_type": "code",
   "execution_count": 5,
   "metadata": {},
   "outputs": [],
   "source": [
    "for element in dizionario:\n",
    "    for ele in generi:\n",
    "        dizionario[element][ele]= dizionario[element].setdefault(ele,0)"
   ]
  },
  {
   "cell_type": "code",
   "execution_count": null,
   "metadata": {},
   "outputs": [],
   "source": [
    "dizionario2 ={}\n",
    "list_stati_ord =[]\n",
    "for element in dizionario:\n",
    "    \n",
    "    list_stati_ord.append(element)\n",
    "    for ele in dizionario[element]:\n",
    "        dizionario2[ele]= dizionario2.setdefault(ele,[])\n",
    "        dizionario2[ele].append(dizionario[element][ele])\n",
    "df2 = pd.DataFrame(dizionario2, index=list_stati_ord)\n",
    "\n",
    "df2"
   ]
  },
  {
   "cell_type": "code",
   "execution_count": null,
   "metadata": {},
   "outputs": [],
   "source": [
    "import matplotlib.pyplot as plt\n",
    "\n",
    "plt.figure(figsize=(10,8))\n",
    "for num in range(len(df2.index)):\n",
    "    x = df2.iloc[num]\n",
    "    plt.subplot(2, 2, 1) #n rows, n columns, id subplot\n",
    "    plt.bar(x.index,x)\n",
    "    plt.xticks(rotation=50)\n",
    "\n",
    "plt.show()"
   ]
  },
  {
   "cell_type": "code",
   "execution_count": null,
   "metadata": {},
   "outputs": [],
   "source": [
    "plt.figure(figsize=(10,45))\n",
    "iter =1\n",
    "for num in range(len(df2.index)):\n",
    "    x = df2.iloc[num]\n",
    "    plt.subplot(5, 2, iter).set_title(df2.index[num]) #n rows, n columns, id subplot\n",
    "    plt.bar(x.index,x)\n",
    "    plt.xticks(rotation=47)\n",
    "    iter +=1\n",
    "\n",
    "plt.show()"
   ]
  }
 ],
 "metadata": {
  "kernelspec": {
   "display_name": "Python 3 (ipykernel)",
   "language": "python",
   "name": "python3"
  },
  "language_info": {
   "codemirror_mode": {
    "name": "ipython",
    "version": 3
   },
   "file_extension": ".py",
   "mimetype": "text/x-python",
   "name": "python",
   "nbconvert_exporter": "python",
   "pygments_lexer": "ipython3",
   "version": "3.11.9"
  }
 },
 "nbformat": 4,
 "nbformat_minor": 4
}
